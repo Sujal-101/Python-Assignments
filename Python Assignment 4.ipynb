{
 "cells": [
  {
   "cell_type": "code",
   "execution_count": 1,
   "id": "376ad0be",
   "metadata": {},
   "outputs": [
    {
     "name": "stdout",
     "output_type": "stream",
     "text": [
      "Enter number: 46\n",
      "Number is even\n"
     ]
    }
   ],
   "source": [
    "#Ques 1.\n",
    "#Write a Python program that checks if a number entered by the user is even\n",
    "#or odd. Print \"Even\" if the number is even and \"Odd\" if it is odd.\n",
    "\n",
    "A = int(input(\"Enter number: \"))\n",
    "\n",
    "if A%2 == 0:\n",
    "    print(\"Number is even\")\n",
    "else:\n",
    "    print(\"Number is odd\")"
   ]
  },
  {
   "cell_type": "code",
   "execution_count": 2,
   "id": "6a0935cc",
   "metadata": {},
   "outputs": [
    {
     "name": "stdout",
     "output_type": "stream",
     "text": [
      "Age: 23\n",
      "adult\n"
     ]
    }
   ],
   "source": [
    "#Ques 2.\n",
    "#Create a program that prompts the user for their age and prints whether\n",
    "#they are a child (0-12), teenager (13-19), or adult (20 and above).\n",
    "\n",
    "A = int(input(\"Age: \"))\n",
    "\n",
    "if A >=0 and A <= 12:\n",
    "    print(\"Child\")\n",
    "elif A >= 13 and A <= 19:\n",
    "    print(\"teenager\")\n",
    "else:\n",
    "    print(\"adult\")"
   ]
  },
  {
   "cell_type": "code",
   "execution_count": 3,
   "id": "82900544",
   "metadata": {},
   "outputs": [
    {
     "name": "stdout",
     "output_type": "stream",
     "text": [
      "Num 1: 34\n",
      "Num 2: 45\n",
      "B is larger\n"
     ]
    }
   ],
   "source": [
    "#Ques 3.\n",
    "#Write a program that takes two numbers as input from the user and prints\n",
    "#which number is larger. If both numbers are equal, print \"Both numbers are\n",
    "#equal.\"\n",
    "\n",
    "A = float(input(\"Num 1: \"))\n",
    "B = float(input(\"Num 2: \"))\n",
    "\n",
    "if A > B:\n",
    "    print(\"A is larger\")\n",
    "elif A < B:\n",
    "    print(\"B is larger\")\n",
    "else:\n",
    "    print(\"Both numbers are equal\")"
   ]
  },
  {
   "cell_type": "code",
   "execution_count": 4,
   "id": "25ba0a45",
   "metadata": {},
   "outputs": [
    {
     "name": "stdout",
     "output_type": "stream",
     "text": [
      "Password: qwert\n",
      "Access Denied\n"
     ]
    }
   ],
   "source": [
    "#Ques 4.\n",
    "#Create a program that checks if a user-entered password matches the\n",
    "#string \"securePassword\". Print \"Access Granted\" if it matches, otherwise\n",
    "#print \"Access Denied.\"\n",
    "\n",
    "A = str(input(\"Password: \"))\n",
    "\n",
    "if A == \"securePassword\":\n",
    "    print(\"Access Granted\")\n",
    "else:\n",
    "    print(\"Access Denied\")"
   ]
  },
  {
   "cell_type": "code",
   "execution_count": 5,
   "id": "44aad792",
   "metadata": {},
   "outputs": [
    {
     "name": "stdout",
     "output_type": "stream",
     "text": [
      "Enter your Score(0-100): 89\n",
      "B\n"
     ]
    }
   ],
   "source": [
    "#Ques 5.\n",
    "#Write a program that takes a score from the user (0-100) and prints the\n",
    "#corresponding grade:\n",
    "#A for 90-100\n",
    "#B for 80-89\n",
    "#C for 70-79\n",
    "#D for 60-69\n",
    "#F for below 60\n",
    "\n",
    "score = int(input(\"Enter your Score(0-100): \"))\n",
    "\n",
    "if score >= 90 and score <= 100:\n",
    "    print(\"A\")\n",
    "elif score >= 80 and score <= 89:\n",
    "    print(\"B\")\n",
    "elif score >= 70 and score <= 79:\n",
    "    print(\"C\")\n",
    "elif score >= 60 and score <= 69:\n",
    "    print(\"D\")\n",
    "elif score >= 0 and score < 60:\n",
    "    print(\"F\")\n",
    "else:\n",
    "    print(\"Invalid score\")"
   ]
  },
  {
   "cell_type": "code",
   "execution_count": 6,
   "id": "e1aef0ec",
   "metadata": {},
   "outputs": [
    {
     "name": "stdout",
     "output_type": "stream",
     "text": [
      "Enter number: 5\n",
      "Positive number\n"
     ]
    }
   ],
   "source": [
    "#WQues 6.\n",
    "#Create a program that asks the user for a number and checks if it is\n",
    "#positive, negative, or zero. Print the corresponding message.\n",
    "\n",
    "A = int(input(\"Enter number: \"))\n",
    "if A > 0:\n",
    "    print(\"Positive number\")\n",
    "elif A == 0:\n",
    "    print(\"Zero\")\n",
    "elif A < 0:\n",
    "    print(\"Negative number\")\n",
    "else:\n",
    "    print(\"Nothing\")"
   ]
  },
  {
   "cell_type": "code",
   "execution_count": 7,
   "id": "810b899b",
   "metadata": {},
   "outputs": [
    {
     "name": "stdout",
     "output_type": "stream",
     "text": [
      "Enter number 1: 23\n",
      "Enter number 2: 56\n",
      "Enter number 3: 33\n",
      "B is larger\n"
     ]
    }
   ],
   "source": [
    "#Ques 7.\n",
    "#Write a program that takes three numbers from the user and determines the\n",
    "#largest of the three. Print the largest number.\n",
    "\n",
    "A = float(input(\"Enter number 1: \"))\n",
    "B = float(input(\"Enter number 2: \"))\n",
    "C = float(input(\"Enter number 3: \"))\n",
    "\n",
    "if A > B  and A > C:\n",
    "    print(\"A is larger\")\n",
    "elif B > C and B > A:\n",
    "    print(\"B is larger\")\n",
    "elif C > B and C > A:\n",
    "    print(\"C is larger\")\n",
    "else:\n",
    "    print(\"Invalid\")"
   ]
  },
  {
   "cell_type": "code",
   "execution_count": 8,
   "id": "bf0ce73a",
   "metadata": {},
   "outputs": [
    {
     "name": "stdout",
     "output_type": "stream",
     "text": [
      "Enter character: r\n",
      "Consonant\n"
     ]
    }
   ],
   "source": [
    "#Ques 8.\n",
    "#Create a program that checks if a user-entered character is a vowel (a, e, i,\n",
    "#o, u) or a consonant. Print the corresponding message.\n",
    "\n",
    "A = str(input(\"Enter character: \"))\n",
    "if A == \"a\" or A ==\"e\" or A ==\"i\" or A ==\"o\" or A ==\"u\":\n",
    "    print(\"Vowel\")\n",
    "else:\n",
    "    print(\"Consonant\")"
   ]
  },
  {
   "cell_type": "code",
   "execution_count": 9,
   "id": "605d96a8",
   "metadata": {},
   "outputs": [
    {
     "name": "stdout",
     "output_type": "stream",
     "text": [
      "Enter year: 2002\n",
      "Not a Leap Year\n"
     ]
    }
   ],
   "source": [
    "#Ques 9.\n",
    "#Write a program that checks if a given year is a leap year. A year is a leap\n",
    "#year if it is divisible by 4, except for years that are divisible by 100 but not\n",
    "#divisible by 400.\n",
    "\n",
    "year = int(input(\"Enter year: \"))\n",
    "\n",
    "if year%4 == 0:\n",
    "    print(\"Leap Year\")\n",
    "elif year%100 == 0 and not year%400 == 0:\n",
    "    print(\"Leap Year\")\n",
    "else:\n",
    "    print(\"Not a Leap Year\")"
   ]
  },
  {
   "cell_type": "code",
   "execution_count": 10,
   "id": "70ec55f8",
   "metadata": {},
   "outputs": [
    {
     "name": "stdout",
     "output_type": "stream",
     "text": [
      "Temp_cel: 34\n",
      "Temp_Fah:  93.2\n",
      "It's not boiling yet\n"
     ]
    }
   ],
   "source": [
    "#Ques  10.\n",
    "#Create a program that prompts the user for a temperature in Celsius and\n",
    "#converts it to Fahrenheit. If the converted temperature is greater than 100°F,\n",
    "#print \"It's boiling!\" Otherwise, print \"It's not boiling yet.\"\n",
    "\n",
    "A = float(input(\"Temp_cel: \"))\n",
    "\n",
    "Fahrenheit = (A * 1.8) + 32\n",
    "print(\"Temp_Fah: \",(A * 1.8) + 32)\n",
    "\n",
    "if Fahrenheit > 100:\n",
    "    print(\"It's boiling!\")\n",
    "else:\n",
    "    print(\"It's not boiling yet\")\n"
   ]
  },
  {
   "cell_type": "code",
   "execution_count": null,
   "id": "d6521fca",
   "metadata": {},
   "outputs": [],
   "source": []
  }
 ],
 "metadata": {
  "kernelspec": {
   "display_name": "Python 3 (ipykernel)",
   "language": "python",
   "name": "python3"
  },
  "language_info": {
   "codemirror_mode": {
    "name": "ipython",
    "version": 3
   },
   "file_extension": ".py",
   "mimetype": "text/x-python",
   "name": "python",
   "nbconvert_exporter": "python",
   "pygments_lexer": "ipython3",
   "version": "3.11.3"
  }
 },
 "nbformat": 4,
 "nbformat_minor": 5
}
