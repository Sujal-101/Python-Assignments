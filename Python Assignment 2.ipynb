{
 "cells": [
  {
   "cell_type": "code",
   "execution_count": 1,
   "id": "ae18017a",
   "metadata": {},
   "outputs": [
    {
     "name": "stdout",
     "output_type": "stream",
     "text": [
      "Age: 25\n"
     ]
    }
   ],
   "source": [
    "#Que 1.Create a variable age and assign it the value 25 . Then print the value of\n",
    "#age along with its data type using the type() function.\n",
    "x = int(input(\"Age: \"))"
   ]
  },
  {
   "cell_type": "code",
   "execution_count": 2,
   "id": "ab6f917f",
   "metadata": {},
   "outputs": [
    {
     "name": "stdout",
     "output_type": "stream",
     "text": [
      "Value of Age:  25\n",
      "Data type of Age:  25\n"
     ]
    }
   ],
   "source": [
    "Age = 25\n",
    "print(\"Value of Age: \", Age)\n",
    "print(\"Data type of Age: \",Age)"
   ]
  },
  {
   "cell_type": "code",
   "execution_count": 3,
   "id": "66c229e6",
   "metadata": {},
   "outputs": [],
   "source": [
    "#Que 2.Assign the number 12.5 to a variable price . Print both the variable and its\n",
    "#data type. Then assign the value 12 to the same variable and print its data\n",
    "#type again. What do you observe?\n",
    "\n",
    "Price = 12.5"
   ]
  },
  {
   "cell_type": "code",
   "execution_count": 4,
   "id": "79679d03",
   "metadata": {},
   "outputs": [
    {
     "name": "stdout",
     "output_type": "stream",
     "text": [
      "Variable:  12.5\n",
      "Data type:  12.5\n"
     ]
    }
   ],
   "source": [
    "print(\"Variable: \",Price)\n",
    "print(\"Data type: \",Price)"
   ]
  },
  {
   "cell_type": "code",
   "execution_count": 5,
   "id": "457b49b6",
   "metadata": {},
   "outputs": [],
   "source": [
    "Price = 12"
   ]
  },
  {
   "cell_type": "code",
   "execution_count": 6,
   "id": "1f8b0d2a",
   "metadata": {},
   "outputs": [
    {
     "name": "stdout",
     "output_type": "stream",
     "text": [
      "Variable:  12\n",
      "Data type:  12\n"
     ]
    }
   ],
   "source": [
    "print(\"Variable: \",Price)\n",
    "print(\"Data type: \",Price)"
   ]
  },
  {
   "cell_type": "code",
   "execution_count": 7,
   "id": "db9ce586",
   "metadata": {},
   "outputs": [],
   "source": [
    "#Que 3.Create a variable is_raining and set it to True . Print the value of the variable\n",
    "#along with its type. Then set is_raining to False and print the new value and \n",
    "#type.\n",
    "\n",
    "is_raining = True"
   ]
  },
  {
   "cell_type": "code",
   "execution_count": 8,
   "id": "b0682d7b",
   "metadata": {},
   "outputs": [
    {
     "data": {
      "text/plain": [
       "True"
      ]
     },
     "execution_count": 8,
     "metadata": {},
     "output_type": "execute_result"
    }
   ],
   "source": [
    "bool(is_raining)"
   ]
  },
  {
   "cell_type": "code",
   "execution_count": 9,
   "id": "271498be",
   "metadata": {},
   "outputs": [
    {
     "name": "stdout",
     "output_type": "stream",
     "text": [
      "Data type:  True\n"
     ]
    }
   ],
   "source": [
    "print(\"Data type: \", is_raining)"
   ]
  },
  {
   "cell_type": "code",
   "execution_count": 10,
   "id": "d6631c98",
   "metadata": {},
   "outputs": [],
   "source": [
    "is_raining = False"
   ]
  },
  {
   "cell_type": "code",
   "execution_count": 11,
   "id": "eda26f12",
   "metadata": {},
   "outputs": [
    {
     "data": {
      "text/plain": [
       "False"
      ]
     },
     "execution_count": 11,
     "metadata": {},
     "output_type": "execute_result"
    }
   ],
   "source": [
    "bool(is_raining)"
   ]
  },
  {
   "cell_type": "code",
   "execution_count": 12,
   "id": "a2dedcb6",
   "metadata": {},
   "outputs": [
    {
     "name": "stdout",
     "output_type": "stream",
     "text": [
      "Data type:  False\n"
     ]
    }
   ],
   "source": [
    "print(\"Data type: \",is_raining)"
   ]
  },
  {
   "cell_type": "code",
   "execution_count": 13,
   "id": "e04eaea7",
   "metadata": {},
   "outputs": [],
   "source": [
    "#Que 4.Create a variable my_name and store your full name in it as a string. Then\n",
    "#print the value of my_name using single quotes ' .\n",
    "\n",
    "my_name = 'Sujal Patil'"
   ]
  },
  {
   "cell_type": "code",
   "execution_count": 14,
   "id": "7cb8e10d",
   "metadata": {},
   "outputs": [
    {
     "name": "stdout",
     "output_type": "stream",
     "text": [
      "my_name:  Sujal Patil\n"
     ]
    }
   ],
   "source": [
    "print('my_name: ',my_name)"
   ]
  },
  {
   "cell_type": "code",
   "execution_count": 15,
   "id": "c9c5311a",
   "metadata": {},
   "outputs": [
    {
     "name": "stdout",
     "output_type": "stream",
     "text": [
      "Sujal\n"
     ]
    }
   ],
   "source": [
    "#Que 5.Write a Python program that asks the user for their name and age using the\n",
    "#input() function. Store the inputs in variables and print a sentence like\n",
    "#\"Hello, [Name]! You are [Age] years old.\" Ensure you cast the age to an\n",
    "#integer.\n",
    "\n",
    "A = str(input())"
   ]
  },
  {
   "cell_type": "code",
   "execution_count": 16,
   "id": "98e39112",
   "metadata": {},
   "outputs": [
    {
     "name": "stdout",
     "output_type": "stream",
     "text": [
      "24\n"
     ]
    }
   ],
   "source": [
    "B = int(input())"
   ]
  },
  {
   "cell_type": "code",
   "execution_count": 17,
   "id": "0c26726a",
   "metadata": {},
   "outputs": [
    {
     "name": "stdout",
     "output_type": "stream",
     "text": [
      "Hello, Sujal! You are 24 years old\n"
     ]
    }
   ],
   "source": [
    "print(\"Hello, \" + A + \"! You are \" + str(B) + \" years old\") "
   ]
  },
  {
   "cell_type": "code",
   "execution_count": 18,
   "id": "cdb1cd14",
   "metadata": {},
   "outputs": [],
   "source": [
    "#Que 6.Create two variables x and y and assign them the values 10 and 3.5 ,\n",
    "#respectively. Print their values and types. Then, create a new variable\n",
    "#sum_xy and store the sum of x and y . Print the result and its type.\n",
    "\n",
    "x = 10\n",
    "y = 3.5"
   ]
  },
  {
   "cell_type": "code",
   "execution_count": 19,
   "id": "b135e3cd",
   "metadata": {},
   "outputs": [
    {
     "name": "stdout",
     "output_type": "stream",
     "text": [
      "value:  10\n",
      "Data type:  <class 'int'>\n",
      "value:  3.5\n",
      "Data type:  <class 'float'>\n"
     ]
    }
   ],
   "source": [
    "print(\"value: \",x)\n",
    "print(\"Data type: \",type(x))\n",
    "print(\"value: \",y)\n",
    "print(\"Data type: \",type(y))"
   ]
  },
  {
   "cell_type": "code",
   "execution_count": 20,
   "id": "e0f72d9f",
   "metadata": {},
   "outputs": [],
   "source": [
    "sum_xy = x + y"
   ]
  },
  {
   "cell_type": "code",
   "execution_count": 21,
   "id": "a239014f",
   "metadata": {},
   "outputs": [
    {
     "name": "stdout",
     "output_type": "stream",
     "text": [
      "sum of x and y:  13.5\n"
     ]
    }
   ],
   "source": [
    "print(\"sum of x and y: \", sum_xy)"
   ]
  },
  {
   "cell_type": "code",
   "execution_count": 22,
   "id": "b789ae20",
   "metadata": {},
   "outputs": [
    {
     "name": "stdout",
     "output_type": "stream",
     "text": [
      "Data type:  <class 'float'>\n"
     ]
    }
   ],
   "source": [
    "print(\"Data type: \",type(sum_xy))"
   ]
  },
  {
   "cell_type": "code",
   "execution_count": 23,
   "id": "5cd21319",
   "metadata": {},
   "outputs": [
    {
     "name": "stdout",
     "output_type": "stream",
     "text": [
      "Data type:  <class 'float'>\n",
      "Data type:  <class 'str'>\n",
      "Data type:  <class 'NoneType'>\n",
      "Data type:  <class 'bool'>\n"
     ]
    }
   ],
   "source": [
    "#Que 7.Using the type() function, check and print the data type of the following:\n",
    "#45.0, \"hello\", None, False\n",
    "\n",
    "print(\"Data type: \", type(45.0))\n",
    "print(\"Data type: \", type(\"hello\"))\n",
    "print(\"Data type: \", type(None))\n",
    "print(\"Data type: \", type(False))"
   ]
  },
  {
   "cell_type": "code",
   "execution_count": 24,
   "id": "6537ba70",
   "metadata": {},
   "outputs": [
    {
     "name": "stdout",
     "output_type": "stream",
     "text": [
      "apple banana cherry\n"
     ]
    }
   ],
   "source": [
    "#Que 8.Write a Python program to print three strings \"apple\" , \"banana\" , and \"cherry\"\n",
    "#on the same line, separated by a space. Then modify the program to\n",
    "#separate the strings using a comma , instead of a space.\n",
    "\n",
    "print(\"apple\", \"banana\", \"cherry\")"
   ]
  },
  {
   "cell_type": "code",
   "execution_count": 25,
   "id": "98ecd152",
   "metadata": {},
   "outputs": [
    {
     "name": "stdout",
     "output_type": "stream",
     "text": [
      "apple,banana,cherry\n"
     ]
    }
   ],
   "source": [
    "print(\"apple\", \"banana\", \"cherry\", sep=',')"
   ]
  },
  {
   "cell_type": "code",
   "execution_count": 26,
   "id": "ef9bb73f",
   "metadata": {},
   "outputs": [
    {
     "name": "stdout",
     "output_type": "stream",
     "text": [
      "big_number: 345\n"
     ]
    }
   ],
   "source": [
    "#Que 9.Create a variable big_number and assign it a very large integer value (e.g.,987654321987654321 ). \n",
    "#Print the value and its type. What do you notice about the size of the number?\n",
    "\n",
    "x = int(input(\"big_number: \"))"
   ]
  },
  {
   "cell_type": "code",
   "execution_count": 27,
   "id": "1313ab43",
   "metadata": {},
   "outputs": [
    {
     "name": "stdout",
     "output_type": "stream",
     "text": [
      "Value:  345\n",
      "Data type: <class 'int'>\n"
     ]
    }
   ],
   "source": [
    "print(\"Value: \", x)\n",
    "print(\"Data type:\", type(x))"
   ]
  },
  {
   "cell_type": "code",
   "execution_count": 28,
   "id": "3cbebd2b",
   "metadata": {},
   "outputs": [],
   "source": [
    "#Que 10.Write a Python program that prints the result of multiplying two floats \n",
    "#(e.g.,2.5 and 3.7 ). Then check and print the data type of the result.\n",
    "\n",
    "x = 2.5\n",
    "y = 3.7"
   ]
  },
  {
   "cell_type": "code",
   "execution_count": 29,
   "id": "a80fb40a",
   "metadata": {},
   "outputs": [
    {
     "name": "stdout",
     "output_type": "stream",
     "text": [
      "x * y: 9.25\n",
      "Data type:  <class 'float'>\n"
     ]
    }
   ],
   "source": [
    "print(\"x * y:\", x*y)\n",
    "print(\"Data type: \", type(x*y))"
   ]
  },
  {
   "cell_type": "code",
   "execution_count": null,
   "id": "70ff5bb4",
   "metadata": {},
   "outputs": [],
   "source": []
  }
 ],
 "metadata": {
  "kernelspec": {
   "display_name": "Python 3 (ipykernel)",
   "language": "python",
   "name": "python3"
  },
  "language_info": {
   "codemirror_mode": {
    "name": "ipython",
    "version": 3
   },
   "file_extension": ".py",
   "mimetype": "text/x-python",
   "name": "python",
   "nbconvert_exporter": "python",
   "pygments_lexer": "ipython3",
   "version": "3.11.3"
  }
 },
 "nbformat": 4,
 "nbformat_minor": 5
}
