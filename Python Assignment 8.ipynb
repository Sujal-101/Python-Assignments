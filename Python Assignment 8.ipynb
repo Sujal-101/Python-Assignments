{
 "cells": [
  {
   "cell_type": "code",
   "execution_count": 1,
   "id": "374481dd",
   "metadata": {},
   "outputs": [],
   "source": [
    "#Python Control Flow, Comprehensions, and Generators"
   ]
  },
  {
   "cell_type": "code",
   "execution_count": 2,
   "id": "728044b1",
   "metadata": {},
   "outputs": [],
   "source": [
    "#1. Conditional Logic\n",
    "#Write a function that checks a number against 7 and prints:\n",
    "#• 'too low' if less than 7,\n",
    "#• 'just right' if equal to 7,\n",
    "#• 'too high' if greater than 7.\n",
    "#Call the function with the values 7, 5, and 15."
   ]
  },
  {
   "cell_type": "code",
   "execution_count": 5,
   "id": "3e8497c9",
   "metadata": {},
   "outputs": [],
   "source": [
    "def check_number(num):\n",
    "    if num < 7:\n",
    "        print('too low')\n",
    "    elif num == 7:\n",
    "        print('just right')\n",
    "    else:\n",
    "        print('too high')"
   ]
  },
  {
   "cell_type": "code",
   "execution_count": 6,
   "id": "cdc53941",
   "metadata": {},
   "outputs": [
    {
     "name": "stdout",
     "output_type": "stream",
     "text": [
      "just right\n",
      "too low\n",
      "too high\n"
     ]
    }
   ],
   "source": [
    "check_number(7)\n",
    "check_number(5)\n",
    "check_number(15)"
   ]
  },
  {
   "cell_type": "code",
   "execution_count": 4,
   "id": "2d8691ab",
   "metadata": {},
   "outputs": [],
   "source": [
    "#2. While Loop Comparison\n",
    "#Assign:\n",
    "#guess_me = 7\n",
    "#start = 1\n",
    "#Write a while True: loop that compares start with guess_me:\n",
    "#• Print 'too low' if start < guess_me\n",
    "#• Print 'found it' and break if equal\n",
    "#• Print 'too high' and break if greater\n",
    "#Increment start at the end of each loop cycle."
   ]
  },
  {
   "cell_type": "code",
   "execution_count": 7,
   "id": "c92b2ecc",
   "metadata": {},
   "outputs": [
    {
     "name": "stdout",
     "output_type": "stream",
     "text": [
      "too low\n",
      "too low\n",
      "too low\n",
      "too low\n",
      "too low\n",
      "too low\n",
      "found it\n"
     ]
    }
   ],
   "source": [
    "guess_me = 7\n",
    "start = 1\n",
    "\n",
    "while True:\n",
    "    if start < guess_me:\n",
    "        print('too low')\n",
    "    elif start == guess_me:\n",
    "        print('found it')\n",
    "        break\n",
    "    else:\n",
    "        print('too high')\n",
    "        break\n",
    "    start += 1"
   ]
  },
  {
   "cell_type": "code",
   "execution_count": 8,
   "id": "13692c04",
   "metadata": {},
   "outputs": [],
   "source": [
    "#3. Loop Through a List\n",
    "#Use a for loop to print each element in this list:\n",
    "#[3, 2, 1, 0]"
   ]
  },
  {
   "cell_type": "code",
   "execution_count": 9,
   "id": "0a352a82",
   "metadata": {},
   "outputs": [
    {
     "name": "stdout",
     "output_type": "stream",
     "text": [
      "3\n",
      "2\n",
      "1\n",
      "0\n"
     ]
    }
   ],
   "source": [
    "numbers = [3, 2, 1, 0]\n",
    "\n",
    "for num in numbers:\n",
    "    print(num)"
   ]
  },
  {
   "cell_type": "code",
   "execution_count": 10,
   "id": "c37e7536",
   "metadata": {},
   "outputs": [],
   "source": [
    "#4. List Comprehension\n",
    "#Use a list comprehension to generate a list of even numbers from 0 to 10."
   ]
  },
  {
   "cell_type": "code",
   "execution_count": 11,
   "id": "2f0ad96a",
   "metadata": {},
   "outputs": [
    {
     "name": "stdout",
     "output_type": "stream",
     "text": [
      "[0, 2, 4, 6, 8, 10]\n"
     ]
    }
   ],
   "source": [
    "even_numbers = [x for x in range(0, 11) if x % 2 == 0]\n",
    "print(even_numbers)"
   ]
  },
  {
   "cell_type": "code",
   "execution_count": 12,
   "id": "2ec6b994",
   "metadata": {},
   "outputs": [],
   "source": [
    "#5. Dictionary Comprehension\n",
    "#Use a dictionary comprehension (or another method) to create a dictionary called squares\n",
    "#where:\n",
    "#• The keys are numbers from 0 to 9\n",
    "#• The values are the squares of the keys"
   ]
  },
  {
   "cell_type": "code",
   "execution_count": 13,
   "id": "3f42ca1d",
   "metadata": {},
   "outputs": [
    {
     "name": "stdout",
     "output_type": "stream",
     "text": [
      "{0: 0, 1: 1, 2: 4, 3: 9, 4: 16, 5: 25, 6: 36, 7: 49, 8: 64, 9: 81}\n"
     ]
    }
   ],
   "source": [
    "squares = {x: x**2 for x in range(10)}\n",
    "print(squares)"
   ]
  },
  {
   "cell_type": "code",
   "execution_count": 14,
   "id": "9b4ea984",
   "metadata": {},
   "outputs": [],
   "source": [
    "#6. Set Comprehension\n",
    "#reate a set odd that contains all the odd numbers from 0 to 9 using a set comprehension."
   ]
  },
  {
   "cell_type": "code",
   "execution_count": 15,
   "id": "1ea87578",
   "metadata": {},
   "outputs": [
    {
     "name": "stdout",
     "output_type": "stream",
     "text": [
      "{1, 3, 5, 7, 9}\n"
     ]
    }
   ],
   "source": [
    "odd = {x for x in range(10) if x % 2 != 0}\n",
    "print(odd)"
   ]
  },
  {
   "cell_type": "code",
   "execution_count": 16,
   "id": "fc463a2d",
   "metadata": {},
   "outputs": [],
   "source": [
    "#7. Generator Expression\n",
    "#Use a generator expression to create strings like 'Got_0', 'Got_1', ..., 'Got_9'.\n",
    "#Iterate over the generator using a for loop and print the results in one line separated by\n",
    "#spaces."
   ]
  },
  {
   "cell_type": "code",
   "execution_count": 18,
   "id": "70d98486",
   "metadata": {},
   "outputs": [
    {
     "name": "stdout",
     "output_type": "stream",
     "text": [
      "Got_0 Got_1 Got_2 Got_3 Got_4 Got_5 Got_6 Got_7 Got_8 Got_9\n"
     ]
    }
   ],
   "source": [
    "gen = (f'Got_{x}' for x in range(10))\n",
    "print(*gen)"
   ]
  },
  {
   "cell_type": "code",
   "execution_count": 19,
   "id": "cc427f50",
   "metadata": {},
   "outputs": [],
   "source": [
    "#8. Define a Simple Function\n",
    "#Define a function good() that returns this list:\n",
    "#['Harry', 'Ron', 'Hermione']"
   ]
  },
  {
   "cell_type": "code",
   "execution_count": 20,
   "id": "2a85c4a9",
   "metadata": {},
   "outputs": [],
   "source": [
    "def good():\n",
    "    return ['Harry', 'Ron', 'Hermione']"
   ]
  },
  {
   "cell_type": "code",
   "execution_count": 21,
   "id": "51446340",
   "metadata": {},
   "outputs": [
    {
     "name": "stdout",
     "output_type": "stream",
     "text": [
      "['Harry', 'Ron', 'Hermione']\n"
     ]
    }
   ],
   "source": [
    "print(good())"
   ]
  },
  {
   "cell_type": "code",
   "execution_count": 22,
   "id": "946d94e1",
   "metadata": {},
   "outputs": [],
   "source": [
    "#9. Generator Function and Indexing\n",
    "#Define a generator function get_odds() that yields odd numbers from 0 to 9.\n",
    "#Use a loop or generator handling to find and print the third odd number generated."
   ]
  },
  {
   "cell_type": "code",
   "execution_count": 23,
   "id": "b07a7db8",
   "metadata": {},
   "outputs": [
    {
     "name": "stdout",
     "output_type": "stream",
     "text": [
      "5\n"
     ]
    }
   ],
   "source": [
    "def get_odds():\n",
    "    for num in range(10):\n",
    "        if num % 2 != 0:\n",
    "            yield num\n",
    "\n",
    "# Find and print the third odd number\n",
    "count = 0\n",
    "for odd in get_odds():\n",
    "    count += 1\n",
    "    if count == 3:\n",
    "        print(odd)\n",
    "        break\n"
   ]
  },
  {
   "cell_type": "code",
   "execution_count": 24,
   "id": "03a455ca",
   "metadata": {},
   "outputs": [],
   "source": [
    "#10. Use zip() to Build a Dictionary\n",
    "#Given:\n",
    "#titles = ['Creature of Habit', 'Crewel Fate']\n",
    "#plots = ['A nun turns into a monster', 'A haunted yarn shop']\n",
    "#Use zip() to build and print a dictionary called movies that pairs each title with its plot."
   ]
  },
  {
   "cell_type": "code",
   "execution_count": 26,
   "id": "aec4574a",
   "metadata": {},
   "outputs": [
    {
     "name": "stdout",
     "output_type": "stream",
     "text": [
      "{'Creature of Habit': 'A nun turns into a monster', 'Crewel Fate': 'A haunted yarn shop'}\n"
     ]
    }
   ],
   "source": [
    "titles = ['Creature of Habit', 'Crewel Fate']\n",
    "plots = ['A nun turns into a monster', 'A haunted yarn shop']\n",
    "\n",
    "movies = dict(zip(titles, plots))\n",
    "print(movies)"
   ]
  }
 ],
 "metadata": {
  "kernelspec": {
   "display_name": "Python 3 (ipykernel)",
   "language": "python",
   "name": "python3"
  },
  "language_info": {
   "codemirror_mode": {
    "name": "ipython",
    "version": 3
   },
   "file_extension": ".py",
   "mimetype": "text/x-python",
   "name": "python",
   "nbconvert_exporter": "python",
   "pygments_lexer": "ipython3",
   "version": "3.11.3"
  }
 },
 "nbformat": 4,
 "nbformat_minor": 5
}
