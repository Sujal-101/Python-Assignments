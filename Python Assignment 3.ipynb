{
 "cells": [
  {
   "cell_type": "code",
   "execution_count": 1,
   "id": "3b495e5f",
   "metadata": {},
   "outputs": [],
   "source": [
    "#Ques1.\n",
    "#Create a variable x with the value 15 . Perform floored division by 4 and\n",
    "#print the result. What is the difference between floored division and normal\n",
    "#division?\n",
    "\n",
    "x = 15"
   ]
  },
  {
   "cell_type": "code",
   "execution_count": 2,
   "id": "8adabb2d",
   "metadata": {},
   "outputs": [
    {
     "data": {
      "text/plain": [
       "3"
      ]
     },
     "execution_count": 2,
     "metadata": {},
     "output_type": "execute_result"
    }
   ],
   "source": [
    "x//4"
   ]
  },
  {
   "cell_type": "raw",
   "id": "768a3764",
   "metadata": {},
   "source": [
    "Floored division provides "
   ]
  },
  {
   "cell_type": "code",
   "execution_count": 3,
   "id": "02715f20",
   "metadata": {},
   "outputs": [
    {
     "name": "stdout",
     "output_type": "stream",
     "text": [
      "64\n",
      "4.0\n"
     ]
    }
   ],
   "source": [
    "#Ques 2:\n",
    "#Write a program to calculate 8 ** 2 and 16 ** 0.5 . Print both results and\n",
    "#describe what each represents.\n",
    "\n",
    "print(8 ** 2)\n",
    "print(16 ** 0.5)"
   ]
  },
  {
   "cell_type": "raw",
   "id": "39e04344",
   "metadata": {},
   "source": [
    "** represents the raise to value of any number\n",
    "In the above question 8 ** 2 means 8 raise to 2 that gives 64\n",
    "and 16 ** 0.5 means sq rt of the number that gives 4 (as 4 is sq rt of 16)"
   ]
  },
  {
   "cell_type": "code",
   "execution_count": 4,
   "id": "f709c62c",
   "metadata": {},
   "outputs": [
    {
     "name": "stdout",
     "output_type": "stream",
     "text": [
      "6.25\n"
     ]
    }
   ],
   "source": [
    "#Ques 3.\n",
    "#Use arithmetic operators to solve the following expression: 20 - 5 * 3 + 8 /4 .\n",
    "#Use parentheses to make sure the addition happens before\n",
    "#multiplication. Print the output.\n",
    "\n",
    "print(20-5*(3+8)/4)"
   ]
  },
  {
   "cell_type": "code",
   "execution_count": 5,
   "id": "bdfc9e4c",
   "metadata": {},
   "outputs": [
    {
     "name": "stdout",
     "output_type": "stream",
     "text": [
      "num: 7.0\n"
     ]
    }
   ],
   "source": [
    "#Ques 4.\n",
    "#Assign the value 7 to a variable num . Convert it to a float and print the\n",
    "#result. What is the difference between 7 and 7.0 ?\n",
    "\n",
    "num = 7\n",
    "print(\"num:\",float(num))"
   ]
  },
  {
   "cell_type": "raw",
   "id": "f028a728",
   "metadata": {},
   "source": [
    "7 is an integer value whereas 7.0 is a float value"
   ]
  },
  {
   "cell_type": "code",
   "execution_count": 6,
   "id": "45f92d84",
   "metadata": {},
   "outputs": [
    {
     "name": "stdout",
     "output_type": "stream",
     "text": [
      "True\n",
      "<class 'bool'>\n"
     ]
    }
   ],
   "source": [
    "#Ques 5.\n",
    "#Use a comparison operator to check if 100 is greater than 50 . Print the\n",
    "#result and indicate what type of value this is.\n",
    "\n",
    "result = 100 > 50\n",
    "print(result)\n",
    "print(type(result))"
   ]
  },
  {
   "cell_type": "code",
   "execution_count": 7,
   "id": "745c0f6a",
   "metadata": {},
   "outputs": [
    {
     "name": "stdout",
     "output_type": "stream",
     "text": [
      "False\n"
     ]
    }
   ],
   "source": [
    "#Ques 6.\n",
    "#Assign True to a variable is_sunny and False to is_weekend . Use logical\n",
    "#operators to check if it is sunny and the weekend ( is_sunny and is_weekend ).\n",
    "#Print the result.\n",
    "\n",
    "is_sunny = True\n",
    "is_weekend = False\n",
    "\n",
    "result = is_sunny and is_weekend\n",
    "print(result)"
   ]
  },
  {
   "cell_type": "code",
   "execution_count": 8,
   "id": "08585b27",
   "metadata": {},
   "outputs": [
    {
     "name": "stdout",
     "output_type": "stream",
     "text": [
      "password: Sujal@2002\n",
      "False\n"
     ]
    }
   ],
   "source": [
    "#Ques 7.\n",
    "#Create a variable password and set it to \"my_password123\" . Ask the user to input\n",
    "#a password and print True if the input matches the value of password ,\n",
    "#otherwise print False .\n",
    "\n",
    "password = \"my_password123\"\n",
    "A = input(\"password: \")\n",
    "\n",
    "if password == A:\n",
    "    print(\"True\")\n",
    "else:\n",
    "    print(\"False\")"
   ]
  },
  {
   "cell_type": "code",
   "execution_count": 9,
   "id": "2e740a29",
   "metadata": {},
   "outputs": [
    {
     "name": "stdout",
     "output_type": "stream",
     "text": [
      "55\n"
     ]
    }
   ],
   "source": [
    "#Ques 8.\n",
    "#Assign the value 50 to a variable marks . Increment the value of marks by 5\n",
    "#using the += operator, then print the new value.\n",
    "\n",
    "marks = int(50)\n",
    "\n",
    "marks += 5\n",
    "print(marks)"
   ]
  },
  {
   "cell_type": "code",
   "execution_count": 10,
   "id": "a9dbb920",
   "metadata": {},
   "outputs": [
    {
     "name": "stdout",
     "output_type": "stream",
     "text": [
      "10\n"
     ]
    }
   ],
   "source": [
    "#Ques 9.\n",
    "#Write a program to check if the value of a = 0 and b = 10 satisfies a or b .\n",
    "#Print the output and explain why it gives that result.\n",
    "\n",
    "a = 0\n",
    "b = 10\n",
    "\n",
    "result = a or b\n",
    "print(result)"
   ]
  },
  {
   "cell_type": "raw",
   "id": "2b275458",
   "metadata": {},
   "source": [
    "The or operator returns the first truthy value it finds,\n",
    "a = 0 → 0 is considered False in Python,\n",
    "b = 10 → 10 is considered True because nonzero numbers are truthy,\n",
    "Since a is False, Python moves to b, which is True → so b (10) is returned."
   ]
  },
  {
   "cell_type": "code",
   "execution_count": 11,
   "id": "e6139cb5",
   "metadata": {},
   "outputs": [
    {
     "name": "stdout",
     "output_type": "stream",
     "text": [
      "True\n"
     ]
    }
   ],
   "source": [
    "#Ques 10.\n",
    "#Use not to negate the value of False and print the result. Explain what the\n",
    "#not operator does in Python.\n",
    "\n",
    "A = not False\n",
    "print(A)"
   ]
  },
  {
   "cell_type": "raw",
   "id": "368fcc49",
   "metadata": {},
   "source": [
    "NOT operator in python returns the opposite value."
   ]
  },
  {
   "cell_type": "code",
   "execution_count": null,
   "id": "2a797f7d",
   "metadata": {},
   "outputs": [],
   "source": []
  }
 ],
 "metadata": {
  "kernelspec": {
   "display_name": "Python 3 (ipykernel)",
   "language": "python",
   "name": "python3"
  },
  "language_info": {
   "codemirror_mode": {
    "name": "ipython",
    "version": 3
   },
   "file_extension": ".py",
   "mimetype": "text/x-python",
   "name": "python",
   "nbconvert_exporter": "python",
   "pygments_lexer": "ipython3",
   "version": "3.11.3"
  }
 },
 "nbformat": 4,
 "nbformat_minor": 5
}
