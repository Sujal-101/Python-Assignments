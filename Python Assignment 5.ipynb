{
 "cells": [
  {
   "cell_type": "code",
   "execution_count": 1,
   "id": "95da1df5",
   "metadata": {},
   "outputs": [],
   "source": [
    "# Problems_on_if_else"
   ]
  },
  {
   "cell_type": "code",
   "execution_count": 3,
   "id": "f7e545e3",
   "metadata": {},
   "outputs": [
    {
     "name": "stdout",
     "output_type": "stream",
     "text": [
      "35\n",
      "40\n",
      "45\n",
      "0\n"
     ]
    }
   ],
   "source": [
    "#1. You are given 3 integer angles(in degrees) A, B and C of a triangle. You\n",
    "#have to tell whether the triangle is valid or not.\n",
    "#A triangle is valid if sum of its angles equals to 180.\n",
    "\n",
    "A = int(input())\n",
    "B = int(input())\n",
    "C = int(input())\n",
    "if A+B+C == 180:\n",
    "    print (\"1\")\n",
    "else:\n",
    "    print(\"0\")"
   ]
  },
  {
   "cell_type": "code",
   "execution_count": 4,
   "id": "a83f89ad",
   "metadata": {},
   "outputs": [
    {
     "name": "stdout",
     "output_type": "stream",
     "text": [
      "50000\n",
      "6000\n",
      "50000\n"
     ]
    }
   ],
   "source": [
    "#2. Write a program to input two numbers(A & B) from user and print the\n",
    "#maximum element among A & B.\n",
    "#Problem Constraints\n",
    "#1 <= A <= 1000000\n",
    "#1 <= B <= 1000000\n",
    "\n",
    "A = int(input())\n",
    "B = int(input())\n",
    "\n",
    "if 1 <= A <= 1000000 and 1 <= B <= 1000000:\n",
    "    print(max(A,B))"
   ]
  },
  {
   "cell_type": "code",
   "execution_count": 5,
   "id": "adc71395",
   "metadata": {},
   "outputs": [
    {
     "name": "stdout",
     "output_type": "stream",
     "text": [
      "30\n",
      "60\n",
      "1\n",
      "30\n"
     ]
    }
   ],
   "source": [
    "#3. You are given the Cost Price C and Selling Price S of a Product. You have to\n",
    "#tell whether there is a Profit or Loss. Also, calculate total profit or loss.\n",
    "#NOTE: It is guaranteed that Cost Price and Selling Price are not equal.\n",
    "#NOTE: You have to take input of the Cost Price(C) and Selling Price(S) from the user.\n",
    "#Problem Constraints\n",
    "#C ≠ S\n",
    "#1 <= C, S <= 109\n",
    "\n",
    "C = int(input())\n",
    "S = int(input())\n",
    "\n",
    "Profit = S - C\n",
    "if 1<=C and S<= 10**9 and C != S and Profit > 1:\n",
    "    print(1)\n",
    "    print(S-C)\n",
    "else:\n",
    "    print(-(1))\n",
    "    print(-(S-C))\n"
   ]
  },
  {
   "cell_type": "code",
   "execution_count": 7,
   "id": "86aa01bb",
   "metadata": {},
   "outputs": [
    {
     "name": "stdout",
     "output_type": "stream",
     "text": [
      "2000\n",
      "Even-Positive\n"
     ]
    }
   ],
   "source": [
    "#4. Given the number N, Categorise the number according to following\n",
    "#condition :1. Odd-Positive2. Odd-Negative3. Even-Positive4. Even-\n",
    "#NegativeNote : Intention of problem is to teach you Nested If-Else, so try to\n",
    "#solve this problem using nested if-else\n",
    "#Problem Constraints\n",
    "#10000 <= N <= 10000 except 0\n",
    "\n",
    "N = int(input())\n",
    "if -10000 <= N <= 10000 and N !=0:\n",
    "    if N < 0 and N%2 == 0:\n",
    "        print(\"Even-Negative\")\n",
    "    elif N > 0 and N % 2 == 0:\n",
    "        print(\"Even-Positive\")\n",
    "    elif N < 0 and N % 2 != 0:\n",
    "        print(\"Odd-Negative\")\n",
    "    else:\n",
    "        print(\"Odd-Positive\")"
   ]
  },
  {
   "cell_type": "code",
   "execution_count": 8,
   "id": "999adf7f",
   "metadata": {},
   "outputs": [],
   "source": [
    "# Problems on LOOPS"
   ]
  },
  {
   "cell_type": "code",
   "execution_count": 16,
   "id": "9cac5915",
   "metadata": {},
   "outputs": [
    {
     "name": "stdout",
     "output_type": "stream",
     "text": [
      "3\n",
      "0\n",
      "1\n",
      "123\n",
      "3\n",
      "100000\n",
      "6\n"
     ]
    }
   ],
   "source": [
    "#1. Problem Description\n",
    "#Take T (number of test cases) as input.\n",
    "#For each test case, take integer N as input and Print the count of digits of that\n",
    "#number.\n",
    "#Note: No of digits for number 0 is considered as 1.\n",
    "\n",
    "T = int(input())\n",
    "\n",
    "for _ in range(T):\n",
    "    N = int(input())\n",
    "    if N == 0:\n",
    "        print(1)\n",
    "    else:\n",
    "        print(len(str(N)))"
   ]
  },
  {
   "cell_type": "code",
   "execution_count": 25,
   "id": "08cec151",
   "metadata": {},
   "outputs": [
    {
     "name": "stdout",
     "output_type": "stream",
     "text": [
      "3\n",
      "123\n",
      "321\n",
      "234\n",
      "432\n",
      "345\n",
      "543\n"
     ]
    }
   ],
   "source": [
    "#2. Problem Description\n",
    "#Write a program that accepts T numbers(N) from the user and find reverse of\n",
    "#the given number(N).\n",
    "#Problem Constraints\n",
    "#1 <= T <= 100\n",
    "#1 <= N <= 100000000\n",
    "\n",
    "T = int(input())\n",
    "for _ in range(T):\n",
    "    N = int(input())\n",
    "    reverse = 0\n",
    "    while N > 0:\n",
    "        digit = N % 10\n",
    "        reverse = reverse * 10 + digit\n",
    "        N = N // 10\n",
    "    print(reverse)"
   ]
  },
  {
   "cell_type": "code",
   "execution_count": 28,
   "id": "d4d6a543",
   "metadata": {},
   "outputs": [
    {
     "name": "stdout",
     "output_type": "stream",
     "text": [
      "5\n",
      "*     *\n",
      "*    *\n",
      "*   *\n",
      "*  *\n",
      "* *\n"
     ]
    }
   ],
   "source": [
    "#Take an integer N as input. Print the following pattern of N lines. For N =\n",
    "#5 The following pattern is printed.\n",
    "\n",
    "N = int(input())\n",
    "for i in range(N, 0, -1):\n",
    "    for j in range(0, i + 2):\n",
    "        if j == 0 or j == i + 1:\n",
    "            print(\"*\", end=\"\")\n",
    "        else:\n",
    "            print(\" \", end=\"\")\n",
    "    print()"
   ]
  },
  {
   "cell_type": "code",
   "execution_count": 30,
   "id": "4c1de659",
   "metadata": {},
   "outputs": [
    {
     "name": "stdout",
     "output_type": "stream",
     "text": [
      "6\n",
      "******\n",
      " *****\n",
      "  ****\n",
      "   ***\n",
      "    **\n",
      "     *\n"
     ]
    }
   ],
   "source": [
    "#2. Take an integer N as input, print the corresponding pattern for N.\n",
    "#For example if N = 5 then pattern will be like:\n",
    "#*****\n",
    "#_****\n",
    "#__***\n",
    "#___**\n",
    "#____*\n",
    "\n",
    "N=int(input())\n",
    "for i in range(1,N+1):\n",
    "    for j in range(1,N+1):\n",
    "        if j<i:\n",
    "            print(\" \",end=\"\")\n",
    "        else:\n",
    "            print(\"*\",end=\"\")\n",
    "    print()"
   ]
  },
  {
   "cell_type": "code",
   "execution_count": 31,
   "id": "ec503969",
   "metadata": {},
   "outputs": [
    {
     "name": "stdout",
     "output_type": "stream",
     "text": [
      "5\n",
      "    * \n",
      "   * * \n",
      "  * * * \n",
      " * * * * \n",
      "* * * * * \n"
     ]
    }
   ],
   "source": [
    "#3. Take an integer N, print the corresponding Full Pyramid pattern for N.\n",
    "#For example if N = 5 then pattern will be like:\n",
    "#     *\n",
    "#    * *\n",
    "#   * * *\n",
    "#  * * * *\n",
    "# * * * * *\n",
    "\n",
    "N = int(input())\n",
    "for i in range(N):\n",
    "    print(\" \" * (N - i - 1) + \"* \" * (i + 1))"
   ]
  },
  {
   "cell_type": "code",
   "execution_count": 32,
   "id": "73a1042a",
   "metadata": {},
   "outputs": [
    {
     "name": "stdout",
     "output_type": "stream",
     "text": [
      "5\n",
      "1\n",
      "1_\n",
      "1_3\n",
      "1_3_\n",
      "1_3_5\n"
     ]
    }
   ],
   "source": [
    "#4. Take an integer N as input, print the corresponding pattern for N.\n",
    "#For example if N = 5 then pattern will be like:\n",
    "#1\n",
    "#1_\n",
    "#1_3\n",
    "#1_3_\n",
    "#1_3_5\n",
    "\n",
    "N = int(input())\n",
    "for i in range(1, N + 1):\n",
    "    val = 1\n",
    "    for j in range(1, i + 1):\n",
    "        if j % 2 == 0:\n",
    "            print(\"_\", end=\"\")\n",
    "        else:\n",
    "            print(val, end=\"\")\n",
    "            val += 2\n",
    "    print()"
   ]
  },
  {
   "cell_type": "code",
   "execution_count": 36,
   "id": "cd47af50",
   "metadata": {},
   "outputs": [
    {
     "name": "stdout",
     "output_type": "stream",
     "text": [
      "5\n",
      "*****\n",
      "****\n",
      "***\n",
      "**\n",
      "*\n"
     ]
    }
   ],
   "source": [
    "#5. Take an Integer N as input. Print an Inverse half pyramid of N lines using * .\n",
    "#For example for N = 5, the output should be the following pattern:-\n",
    "#*****\n",
    "#****\n",
    "#***\n",
    "#**\n",
    "#*\n",
    "\n",
    "N = int(input())\n",
    "for i in range(N, 0, -1):\n",
    "    print(\"*\" * i)"
   ]
  },
  {
   "cell_type": "code",
   "execution_count": 35,
   "id": "2fb14b79",
   "metadata": {},
   "outputs": [
    {
     "name": "stdout",
     "output_type": "stream",
     "text": [
      "5\n",
      "____*\n",
      "___**\n",
      "__***\n",
      "_****\n",
      "*****\n"
     ]
    }
   ],
   "source": [
    "#6. Take an integer N as input, print the corresponding pattern for N.\n",
    "#For example if N = 5 then pattern will be like:\n",
    "#____*\n",
    "#___**\n",
    "#__***\n",
    "#_****\n",
    "#*****\n",
    "\n",
    "N = int(input())\n",
    "for i in range(1, N + 1):\n",
    "    spaces = N - i\n",
    "    stars = i\n",
    "    print(\"_\" * spaces + \"*\" * stars)"
   ]
  },
  {
   "cell_type": "code",
   "execution_count": 37,
   "id": "433c3f59",
   "metadata": {},
   "outputs": [],
   "source": [
    "# Problems on Functions"
   ]
  },
  {
   "cell_type": "code",
   "execution_count": 39,
   "id": "38182ef9",
   "metadata": {},
   "outputs": [],
   "source": [
    "#1. Given the temperature of a day in Degrees Celsius, convert this given\n",
    "#temperature from Celsius to Fahrenheit. Complete the function to do so.\n",
    "#Round the output up to 2 decimal places\n",
    "\n",
    "def celsius_farhen(Celsius):\n",
    "    ans = (Celsius* 9/5)+32\n",
    "    return round(ans,2)"
   ]
  },
  {
   "cell_type": "code",
   "execution_count": 40,
   "id": "79f09e55",
   "metadata": {},
   "outputs": [
    {
     "data": {
      "text/plain": [
       "113.0"
      ]
     },
     "execution_count": 40,
     "metadata": {},
     "output_type": "execute_result"
    }
   ],
   "source": [
    "celsius_farhen(45)"
   ]
  },
  {
   "cell_type": "code",
   "execution_count": 41,
   "id": "3a3e1411",
   "metadata": {},
   "outputs": [],
   "source": [
    "#2. Write a program to calculate the total amount if the principal\n",
    "#amount, simple interest rate per annum, and time in the number of days\n",
    "#are given. The simple interest rate per annum is provided as a percentage.\n",
    "#Assuming that there are 365 days in a year, print the total amount rounded\n",
    "#up to 2 decimal places.\n",
    "\n",
    "def simple_int(time, pa, ir):\n",
    "    interest = (pa * ir * time) / (365 * 100)\n",
    "    ans = pa + interest\n",
    "    return round(ans, 2)"
   ]
  },
  {
   "cell_type": "code",
   "execution_count": 42,
   "id": "a9643965",
   "metadata": {},
   "outputs": [
    {
     "data": {
      "text/plain": [
       "10123.29"
      ]
     },
     "execution_count": 42,
     "metadata": {},
     "output_type": "execute_result"
    }
   ],
   "source": [
    "simple_int(90, 10000, 5)"
   ]
  },
  {
   "cell_type": "code",
   "execution_count": 43,
   "id": "0e5ea81f",
   "metadata": {},
   "outputs": [],
   "source": [
    "#3. Write a program that takes the cost price of a vehicle as an argument and\n",
    "#returns the road tax, that the vehicle owner has to pay according to the\n",
    "#following criteria:\n",
    "\n",
    "def road_tax(price):\n",
    "    if price > 100000:\n",
    "        tax = 0.2 * price\n",
    "    elif 75000 < price <= 100000:\n",
    "        tax = 0.15 * price\n",
    "    elif 50000 < price <= 75000:\n",
    "        tax = 0.1 * price\n",
    "    else:\n",
    "        tax = 0.05 * price\n",
    "    return round(tax, 1)"
   ]
  },
  {
   "cell_type": "code",
   "execution_count": 47,
   "id": "e2943929",
   "metadata": {},
   "outputs": [
    {
     "data": {
      "text/plain": [
       "500.2"
      ]
     },
     "execution_count": 47,
     "metadata": {},
     "output_type": "execute_result"
    }
   ],
   "source": [
    "road_tax(10005)"
   ]
  },
  {
   "cell_type": "code",
   "execution_count": 48,
   "id": "b104f44e",
   "metadata": {},
   "outputs": [],
   "source": [
    "#4. You are given a positive integer A denoting the radius of a circle. You have\n",
    "#to calculate the area of the circle. Note: The formula for the area of a circle\n",
    "#is Area = πr2, where r is the circle's radius. You can use the value\n",
    "#of PI as 3.1416. Round up the final answer up to 2 decimal places. You can\n",
    "#use round(area, 2) for rounding area to 2 decimal places\n",
    "\n",
    "import math\n",
    "def area_of_circle(radius):\n",
    "    return round(3.1416 * (radius ** 2), 2)"
   ]
  },
  {
   "cell_type": "code",
   "execution_count": 49,
   "id": "26a6e029",
   "metadata": {},
   "outputs": [
    {
     "data": {
      "text/plain": [
       "78.54"
      ]
     },
     "execution_count": 49,
     "metadata": {},
     "output_type": "execute_result"
    }
   ],
   "source": [
    "area_of_circle(5)"
   ]
  },
  {
   "cell_type": "code",
   "execution_count": 50,
   "id": "5cb1f038",
   "metadata": {},
   "outputs": [],
   "source": [
    "#5. Given an integer n, write a program to return the sum of squares of first n\n",
    "#natural numbers in integer format.\n",
    "#Note1: The formula for the sum of squares of first n natural numbers is: n(n+1) (2n+1)/6\n",
    "\n",
    "def sum_squares(n):\n",
    "    ans = (n * (n + 1) * (2 * n + 1)) // 6\n",
    "    return ans"
   ]
  },
  {
   "cell_type": "code",
   "execution_count": 51,
   "id": "d0da99f6",
   "metadata": {},
   "outputs": [
    {
     "data": {
      "text/plain": [
       "55"
      ]
     },
     "execution_count": 51,
     "metadata": {},
     "output_type": "execute_result"
    }
   ],
   "source": [
    "sum_squares(5)"
   ]
  },
  {
   "cell_type": "code",
   "execution_count": 52,
   "id": "32ed69ba",
   "metadata": {},
   "outputs": [],
   "source": [
    "#6. You are given a lowercase latin alphabetic character C. You have to tell\n",
    "#whether it is a vowel or not.\n",
    "#The characters 'a', 'e', 'i', 'o', and 'u' are called vowels.\n",
    "#Note: You just have to write the code inside the function and return the result.\n",
    "#The input and output is handled in the backend.\n",
    "#Problem Constraints: C ∈ ['a' - 'z']\n",
    "\n",
    "def isvowel(C):\n",
    "    vowel = \"aeiou\"\n",
    "    if C in vowel:\n",
    "        return 1\n",
    "    else:\n",
    "        return 0"
   ]
  },
  {
   "cell_type": "code",
   "execution_count": 58,
   "id": "95cca180",
   "metadata": {},
   "outputs": [
    {
     "data": {
      "text/plain": [
       "1"
      ]
     },
     "execution_count": 58,
     "metadata": {},
     "output_type": "execute_result"
    }
   ],
   "source": [
    "isvowel('o')"
   ]
  },
  {
   "cell_type": "code",
   "execution_count": 59,
   "id": "8ede0bb4",
   "metadata": {},
   "outputs": [],
   "source": [
    "#7. Given the height (A) and weight (B) of a person as input in centimetres and kilograms.\n",
    "#Find the BMI of that person and the classification of the user based on their\n",
    "#BMI.\n",
    "\n",
    "def main(height_cm, weight):\n",
    "    height = height_cm / 100\n",
    "    BMI = weight / (height * height)\n",
    "    return BMI\n",
    "\n",
    "def classify(BMI):\n",
    "    if BMI < 18.5:\n",
    "        return \"Underweight\"\n",
    "    elif 18.5 <= BMI <= 24.9:\n",
    "        return \"Normal\"\n",
    "    elif 24.9 < BMI <= 29.9:\n",
    "        return \"Overweight\"\n",
    "    else:\n",
    "        return \"Obese\""
   ]
  },
  {
   "cell_type": "code",
   "execution_count": 62,
   "id": "e338f559",
   "metadata": {},
   "outputs": [],
   "source": [
    "BMI = main(170,68)"
   ]
  },
  {
   "cell_type": "code",
   "execution_count": 63,
   "id": "b203d6fd",
   "metadata": {},
   "outputs": [
    {
     "data": {
      "text/plain": [
       "'Normal'"
      ]
     },
     "execution_count": 63,
     "metadata": {},
     "output_type": "execute_result"
    }
   ],
   "source": [
    "classify(BMI)"
   ]
  },
  {
   "cell_type": "code",
   "execution_count": null,
   "id": "06d48f36",
   "metadata": {},
   "outputs": [],
   "source": []
  }
 ],
 "metadata": {
  "kernelspec": {
   "display_name": "Python 3 (ipykernel)",
   "language": "python",
   "name": "python3"
  },
  "language_info": {
   "codemirror_mode": {
    "name": "ipython",
    "version": 3
   },
   "file_extension": ".py",
   "mimetype": "text/x-python",
   "name": "python",
   "nbconvert_exporter": "python",
   "pygments_lexer": "ipython3",
   "version": "3.11.3"
  }
 },
 "nbformat": 4,
 "nbformat_minor": 5
}
