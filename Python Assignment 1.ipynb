{
 "cells": [
  {
   "cell_type": "code",
   "execution_count": 1,
   "id": "f8281fb2",
   "metadata": {},
   "outputs": [
    {
     "name": "stdout",
     "output_type": "stream",
     "text": [
      "Sujal \n",
      "Black\n"
     ]
    }
   ],
   "source": [
    "#Que 1.Write a Python program to print your name and favourite colour on two separate lines.\n",
    "print(\"Sujal\", \"\\nBlack\")"
   ]
  },
  {
   "cell_type": "code",
   "execution_count": 2,
   "id": "f0e281b8",
   "metadata": {},
   "outputs": [
    {
     "name": "stdout",
     "output_type": "stream",
     "text": [
      "15\n"
     ]
    }
   ],
   "source": [
    "#Qye 2.Write a Python program that prints the result of adding 7 and 8.\n",
    "print(7+8)"
   ]
  },
  {
   "cell_type": "code",
   "execution_count": 3,
   "id": "f2acaa2a",
   "metadata": {},
   "outputs": [
    {
     "name": "stdout",
     "output_type": "stream",
     "text": [
      "Python is fun! \n",
      "Let's learn together\n"
     ]
    }
   ],
   "source": [
    "#Que 3.Use the print function to display the following text exactly as it is:\n",
    "print(\"Python is fun! \\nLet's learn together\")"
   ]
  },
  {
   "cell_type": "code",
   "execution_count": 4,
   "id": "3300cb06",
   "metadata": {},
   "outputs": [
    {
     "name": "stdout",
     "output_type": "stream",
     "text": [
      "54\n"
     ]
    }
   ],
   "source": [
    "#Que 4.Write a Python program to calculate and print the result of multiplying 6 by 9.\n",
    "print(6*9)"
   ]
  },
  {
   "cell_type": "code",
   "execution_count": 5,
   "id": "b6e43a8f",
   "metadata": {},
   "outputs": [],
   "source": [
    "#Que 5.Write a Python program that prints the result of adding 5 + 5 and\n",
    "#multiplying 2 * 3 in a single line of code.\n",
    "x = 5+5\n",
    "y = 2*3"
   ]
  },
  {
   "cell_type": "code",
   "execution_count": 6,
   "id": "faceade9",
   "metadata": {},
   "outputs": [
    {
     "name": "stdout",
     "output_type": "stream",
     "text": [
      "10 6\n"
     ]
    }
   ],
   "source": [
    "print(x , y)"
   ]
  },
  {
   "cell_type": "code",
   "execution_count": 7,
   "id": "b1e2a7b6",
   "metadata": {},
   "outputs": [
    {
     "name": "stdout",
     "output_type": "stream",
     "text": [
      "Sujal\n"
     ]
    }
   ],
   "source": [
    "#Que 6.Take the name A as input from the user and print \"Hello A\", where A is\n",
    "#the name in input.\n",
    "x = (input())"
   ]
  },
  {
   "cell_type": "code",
   "execution_count": 8,
   "id": "28f66724",
   "metadata": {},
   "outputs": [
    {
     "name": "stdout",
     "output_type": "stream",
     "text": [
      "34\n"
     ]
    }
   ],
   "source": [
    "#Que 7.You have x rupees in your savings. You google pay y rupees, print your bank balance\n",
    "x = int(input())"
   ]
  },
  {
   "cell_type": "code",
   "execution_count": 9,
   "id": "684b9b06",
   "metadata": {},
   "outputs": [
    {
     "name": "stdout",
     "output_type": "stream",
     "text": [
      "20\n"
     ]
    }
   ],
   "source": [
    "y = int(input())"
   ]
  },
  {
   "cell_type": "code",
   "execution_count": 10,
   "id": "2abbf5af",
   "metadata": {},
   "outputs": [
    {
     "name": "stdout",
     "output_type": "stream",
     "text": [
      "14\n"
     ]
    }
   ],
   "source": [
    "print (x-y)"
   ]
  },
  {
   "cell_type": "code",
   "execution_count": 11,
   "id": "9d6a40f8",
   "metadata": {},
   "outputs": [
    {
     "name": "stdout",
     "output_type": "stream",
     "text": [
      "A \n",
      "B \n",
      "C \n",
      "D \n",
      "E\n"
     ]
    }
   ],
   "source": [
    "#Que 8.Print the first five letters of the English alphabet i.e. A, B, C, D and E.\n",
    "#one below each other\n",
    "print(\"A \\nB \\nC \\nD \\nE\")"
   ]
  },
  {
   "cell_type": "code",
   "execution_count": 12,
   "id": "1b6b0a1a",
   "metadata": {},
   "outputs": [
    {
     "name": "stdout",
     "output_type": "stream",
     "text": [
      "Sujal\n"
     ]
    }
   ],
   "source": [
    "#Que 9.Take two names A and B as input from the user, and print \"A says Hi to B\" (Without quotations), \n",
    "#where A and B are the names in input.\n",
    "A = str(input())"
   ]
  },
  {
   "cell_type": "code",
   "execution_count": 13,
   "id": "4537dbae",
   "metadata": {},
   "outputs": [
    {
     "name": "stdout",
     "output_type": "stream",
     "text": [
      "Jugal\n"
     ]
    }
   ],
   "source": [
    "B = str(input())"
   ]
  },
  {
   "cell_type": "code",
   "execution_count": 14,
   "id": "db6509fe",
   "metadata": {},
   "outputs": [
    {
     "name": "stdout",
     "output_type": "stream",
     "text": [
      "Sujal says Hi to Jugal\n"
     ]
    }
   ],
   "source": [
    "print(A + \" says Hi to \" + B)"
   ]
  },
  {
   "cell_type": "code",
   "execution_count": null,
   "id": "90c94cee",
   "metadata": {},
   "outputs": [],
   "source": []
  }
 ],
 "metadata": {
  "kernelspec": {
   "display_name": "Python 3 (ipykernel)",
   "language": "python",
   "name": "python3"
  },
  "language_info": {
   "codemirror_mode": {
    "name": "ipython",
    "version": 3
   },
   "file_extension": ".py",
   "mimetype": "text/x-python",
   "name": "python",
   "nbconvert_exporter": "python",
   "pygments_lexer": "ipython3",
   "version": "3.11.3"
  }
 },
 "nbformat": 4,
 "nbformat_minor": 5
}
