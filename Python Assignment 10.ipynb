{
 "cells": [
  {
   "cell_type": "code",
   "execution_count": 1,
   "id": "6d879627",
   "metadata": {},
   "outputs": [],
   "source": [
    "#Time Calculations and Prime Number Generator"
   ]
  },
  {
   "cell_type": "code",
   "execution_count": 2,
   "id": "6f8d5f83",
   "metadata": {},
   "outputs": [],
   "source": [
    "#1. Seconds in an Hour\n",
    "#Use Python to calculate how many seconds are in one hour. Multiply the number of seconds\n",
    "#in a minute by the number of minutes in an hour."
   ]
  },
  {
   "cell_type": "code",
   "execution_count": 3,
   "id": "20676328",
   "metadata": {},
   "outputs": [],
   "source": [
    "secs_per_minute = 60\n",
    "mins_per_hour = 60\n",
    "\n",
    "secs_in_an_hour = secs_per_minute * mins_per_hour"
   ]
  },
  {
   "cell_type": "code",
   "execution_count": 4,
   "id": "d7bcdbbd",
   "metadata": {},
   "outputs": [
    {
     "name": "stdout",
     "output_type": "stream",
     "text": [
      "Seconds in one hour: 3600\n"
     ]
    }
   ],
   "source": [
    "print(\"Seconds in one hour:\", secs_in_an_hour)"
   ]
  },
  {
   "cell_type": "code",
   "execution_count": 5,
   "id": "5c3de82e",
   "metadata": {},
   "outputs": [],
   "source": [
    "#2. Store the Result in a Variable\n",
    "#Assign the result from Question 1 to a variable called seconds_per_hour and print it."
   ]
  },
  {
   "cell_type": "code",
   "execution_count": 9,
   "id": "a873a054",
   "metadata": {},
   "outputs": [],
   "source": [
    "secs_per_hour = 60 * 60"
   ]
  },
  {
   "cell_type": "code",
   "execution_count": 10,
   "id": "b8745e11",
   "metadata": {},
   "outputs": [
    {
     "name": "stdout",
     "output_type": "stream",
     "text": [
      "Seconds per hour: 3600\n"
     ]
    }
   ],
   "source": [
    "print(\"Seconds per hour:\", secs_per_hour)"
   ]
  },
  {
   "cell_type": "code",
   "execution_count": 11,
   "id": "5b0d6b1d",
   "metadata": {},
   "outputs": [],
   "source": [
    "#3. Calculate Seconds in a Day\n",
    "#Estimate how many seconds are in a day. Use the variable seconds_per_hour and any other\n",
    "#variables you may need."
   ]
  },
  {
   "cell_type": "code",
   "execution_count": 14,
   "id": "7c336b5c",
   "metadata": {},
   "outputs": [],
   "source": [
    "secs_per_hour = 60 * 60\n",
    "hrs_per_day = 24\n",
    "\n",
    "secs_per_day = secs_per_hour * hrs_per_day"
   ]
  },
  {
   "cell_type": "code",
   "execution_count": 15,
   "id": "2dc5e376",
   "metadata": {},
   "outputs": [
    {
     "name": "stdout",
     "output_type": "stream",
     "text": [
      "Seconds in a day: 86400\n"
     ]
    }
   ],
   "source": [
    "print(\"Seconds in a day:\", secs_per_day)"
   ]
  },
  {
   "cell_type": "code",
   "execution_count": 16,
   "id": "d8c6ad31",
   "metadata": {},
   "outputs": [],
   "source": [
    "#4. Save Seconds Per Day in a Variable\n",
    "#Recalculate the number of seconds in a day and assign the result to a variable called\n",
    "#seconds_per_day. Print the value."
   ]
  },
  {
   "cell_type": "code",
   "execution_count": 17,
   "id": "5e5da323",
   "metadata": {},
   "outputs": [],
   "source": [
    "secs_per_hour = 60 * 60\n",
    "hrs_per_day = 24\n",
    "\n",
    "secs_per_day = secs_per_hour * hrs_per_day"
   ]
  },
  {
   "cell_type": "code",
   "execution_count": 20,
   "id": "90f3ff33",
   "metadata": {},
   "outputs": [
    {
     "name": "stdout",
     "output_type": "stream",
     "text": [
      "Seconds per day: 86400\n"
     ]
    }
   ],
   "source": [
    "print(\"Seconds per day:\", secs_per_day)\n"
   ]
  },
  {
   "cell_type": "code",
   "execution_count": 21,
   "id": "c0a6cd58",
   "metadata": {},
   "outputs": [],
   "source": [
    "#5. Floating-Point Division\n",
    "#Divide seconds_per_day by seconds_per_hour using floating-point division (/). What\n",
    "#result do you get?"
   ]
  },
  {
   "cell_type": "code",
   "execution_count": 22,
   "id": "1fa1fc75",
   "metadata": {},
   "outputs": [],
   "source": [
    "secs_per_hour = 60 * 60\n",
    "secs_per_day = secs_per_hour * 24\n",
    "\n",
    "result = secs_per_day / secs_per_hour"
   ]
  },
  {
   "cell_type": "code",
   "execution_count": 23,
   "id": "10cfd0f2",
   "metadata": {},
   "outputs": [
    {
     "name": "stdout",
     "output_type": "stream",
     "text": [
      "Floating-point division result: 24.0\n"
     ]
    }
   ],
   "source": [
    "print(\"Floating-point division result:\", result)"
   ]
  },
  {
   "cell_type": "code",
   "execution_count": 24,
   "id": "15468f4b",
   "metadata": {},
   "outputs": [],
   "source": [
    "#6. Integer Division\n",
    "#Now divide seconds_per_day by seconds_per_hour using integer division (//). Does this\n",
    "#value match the previous result aside from the decimal point?"
   ]
  },
  {
   "cell_type": "code",
   "execution_count": 25,
   "id": "3b8f8183",
   "metadata": {},
   "outputs": [],
   "source": [
    "secs_per_hour = 60 * 60\n",
    "secs_per_day = secs_per_hour * 24\n",
    "\n",
    "result = secs_per_day // secs_per_hour"
   ]
  },
  {
   "cell_type": "code",
   "execution_count": 26,
   "id": "8c85e3fb",
   "metadata": {},
   "outputs": [
    {
     "name": "stdout",
     "output_type": "stream",
     "text": [
      "Integer division result: 24\n"
     ]
    }
   ],
   "source": [
    "print(\"Integer division result:\", result)"
   ]
  },
  {
   "cell_type": "code",
   "execution_count": 27,
   "id": "361bf861",
   "metadata": {},
   "outputs": [],
   "source": [
    "#7. Prime Number Generator\n",
    "#Write a generator function genPrimes() that yields an infinite sequence of prime numbers\n",
    "#starting from 2.\n",
    "#Use a loop to print the first 5 prime numbers generated by genPrimes()."
   ]
  },
  {
   "cell_type": "code",
   "execution_count": 28,
   "id": "65bb78cb",
   "metadata": {},
   "outputs": [
    {
     "name": "stdout",
     "output_type": "stream",
     "text": [
      "2\n",
      "3\n",
      "5\n",
      "7\n",
      "11\n"
     ]
    }
   ],
   "source": [
    "def genPrimes():\n",
    "    primes = []\n",
    "    num = 2\n",
    "    while True:\n",
    "        is_prime = True\n",
    "        for p in primes:\n",
    "            if num % p == 0:\n",
    "                is_prime = False\n",
    "                break\n",
    "        if is_prime:\n",
    "            primes.append(num)\n",
    "            yield num\n",
    "        num += 1\n",
    "\n",
    "# Print the first 5 prime numbers\n",
    "prime_generator = genPrimes()\n",
    "for _ in range(5):\n",
    "    print(next(prime_generator))"
   ]
  }
 ],
 "metadata": {
  "kernelspec": {
   "display_name": "Python 3 (ipykernel)",
   "language": "python",
   "name": "python3"
  },
  "language_info": {
   "codemirror_mode": {
    "name": "ipython",
    "version": 3
   },
   "file_extension": ".py",
   "mimetype": "text/x-python",
   "name": "python",
   "nbconvert_exporter": "python",
   "pygments_lexer": "ipython3",
   "version": "3.11.3"
  }
 },
 "nbformat": 4,
 "nbformat_minor": 5
}
