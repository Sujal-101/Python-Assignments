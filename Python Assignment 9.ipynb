{
 "cells": [
  {
   "cell_type": "code",
   "execution_count": 1,
   "id": "8ae0cd64",
   "metadata": {},
   "outputs": [],
   "source": [
    "#Lists, Strings, Dictionaries, and Nested Structures"
   ]
  },
  {
   "cell_type": "code",
   "execution_count": 2,
   "id": "10001621",
   "metadata": {},
   "outputs": [],
   "source": [
    "#1. Year List Creation\n",
    "#Create a list years_list that includes the year of your birth and the next five years (total 6\n",
    "#years)."
   ]
  },
  {
   "cell_type": "code",
   "execution_count": 3,
   "id": "ce4e8e3d",
   "metadata": {},
   "outputs": [
    {
     "name": "stdout",
     "output_type": "stream",
     "text": [
      "[2000, 2001, 2002, 2003, 2004, 2005]\n"
     ]
    }
   ],
   "source": [
    "birth_year = 2000\n",
    "years_list = [birth_year + i for i in range(6)]\n",
    "print(years_list)"
   ]
  },
  {
   "cell_type": "code",
   "execution_count": 4,
   "id": "75c39d59",
   "metadata": {},
   "outputs": [],
   "source": [
    "#2. Third Birthday Year\n",
    "#Print the year in years_list when you were 3 years old.\n",
    "#Hint: Remember, your 0th year is the first item."
   ]
  },
  {
   "cell_type": "code",
   "execution_count": 5,
   "id": "fd705270",
   "metadata": {},
   "outputs": [],
   "source": [
    "birth_year = 2000\n",
    "years_list = [birth_year + i for i in range(6)]"
   ]
  },
  {
   "cell_type": "code",
   "execution_count": 6,
   "id": "0447f424",
   "metadata": {},
   "outputs": [
    {
     "name": "stdout",
     "output_type": "stream",
     "text": [
      "2003\n"
     ]
    }
   ],
   "source": [
    "print(years_list[3])"
   ]
  },
  {
   "cell_type": "code",
   "execution_count": 7,
   "id": "01cd182d",
   "metadata": {},
   "outputs": [],
   "source": [
    "#3. Oldest Year\n",
    "#Which year in years_list represents the most recent (your oldest age)?"
   ]
  },
  {
   "cell_type": "code",
   "execution_count": 8,
   "id": "ea63c711",
   "metadata": {},
   "outputs": [],
   "source": [
    "birth_year = 2000\n",
    "years_list = [birth_year + i for i in range(6)]"
   ]
  },
  {
   "cell_type": "code",
   "execution_count": 9,
   "id": "2156e7c8",
   "metadata": {},
   "outputs": [
    {
     "name": "stdout",
     "output_type": "stream",
     "text": [
      "2005\n"
     ]
    }
   ],
   "source": [
    "print(years_list[-1])"
   ]
  },
  {
   "cell_type": "code",
   "execution_count": 10,
   "id": "f86b72f3",
   "metadata": {},
   "outputs": [],
   "source": [
    "#4. List of Things\n",
    "#Create a list called things with the following items:\n",
    "#[\"mozzarella\", \"cinderella\", \"salmonella\"]"
   ]
  },
  {
   "cell_type": "code",
   "execution_count": 11,
   "id": "c400f110",
   "metadata": {},
   "outputs": [],
   "source": [
    "things = [\"mozzarella\", \"cinderella\", \"salmonella\"]"
   ]
  },
  {
   "cell_type": "code",
   "execution_count": 12,
   "id": "0b75d924",
   "metadata": {},
   "outputs": [
    {
     "name": "stdout",
     "output_type": "stream",
     "text": [
      "['mozzarella', 'cinderella', 'salmonella']\n"
     ]
    }
   ],
   "source": [
    "print(things)"
   ]
  },
  {
   "cell_type": "code",
   "execution_count": 13,
   "id": "950acae4",
   "metadata": {},
   "outputs": [],
   "source": [
    "#5. Capitalization Check\n",
    "#Capitalize the item that refers to a person in the things list.\n",
    "#Print the list. Did the original list change?"
   ]
  },
  {
   "cell_type": "code",
   "execution_count": 14,
   "id": "ad0092f9",
   "metadata": {},
   "outputs": [],
   "source": [
    "things = [\"mozzarella\", \"cinderella\", \"salmonella\"]\n",
    "\n",
    "things[1] = things[1].capitalize()"
   ]
  },
  {
   "cell_type": "code",
   "execution_count": 15,
   "id": "3d448cac",
   "metadata": {},
   "outputs": [
    {
     "name": "stdout",
     "output_type": "stream",
     "text": [
      "['mozzarella', 'Cinderella', 'salmonella']\n"
     ]
    }
   ],
   "source": [
    "print(things)"
   ]
  },
  {
   "cell_type": "code",
   "execution_count": 16,
   "id": "80c62316",
   "metadata": {},
   "outputs": [],
   "source": [
    "#6. Surprise List\n",
    "#Create a list called surprise_list with these values:\n",
    "#[\"Groucho\", \"Chico\", \"Harpo\"]"
   ]
  },
  {
   "cell_type": "code",
   "execution_count": 17,
   "id": "ba6a70dd",
   "metadata": {},
   "outputs": [],
   "source": [
    "surprise_list = [\"Groucho\", \"Chico\", \"Harpo\"]"
   ]
  },
  {
   "cell_type": "code",
   "execution_count": 18,
   "id": "97b0e573",
   "metadata": {},
   "outputs": [
    {
     "name": "stdout",
     "output_type": "stream",
     "text": [
      "['Groucho', 'Chico', 'Harpo']\n"
     ]
    }
   ],
   "source": [
    "print(surprise_list)"
   ]
  },
  {
   "cell_type": "code",
   "execution_count": 19,
   "id": "0718d6f6",
   "metadata": {},
   "outputs": [],
   "source": [
    "#7. String Transformation\n",
    "#Take the last item in surprise_list:\n",
    "#• Lowercase it\n",
    "#• Reverse it\n",
    "#• Capitalize the result\n",
    "#Then print it."
   ]
  },
  {
   "cell_type": "code",
   "execution_count": 20,
   "id": "cc512f5e",
   "metadata": {},
   "outputs": [],
   "source": [
    "surprise_list = [\"Groucho\", \"Chico\", \"Harpo\"]\n",
    "\n",
    "transformed = surprise_list[-1].lower()[::-1].capitalize()"
   ]
  },
  {
   "cell_type": "code",
   "execution_count": 21,
   "id": "45b664cc",
   "metadata": {},
   "outputs": [
    {
     "name": "stdout",
     "output_type": "stream",
     "text": [
      "Oprah\n"
     ]
    }
   ],
   "source": [
    "print(transformed)"
   ]
  },
  {
   "cell_type": "code",
   "execution_count": 22,
   "id": "87a99d48",
   "metadata": {},
   "outputs": [],
   "source": [
    "#8. English-to-French Dictionary\n",
    "#Create a dictionary e2f that maps these:\n",
    "#• dog → chien\n",
    "#• cat → chat\n",
    "#• walrus → morse\n",
    "#Print the dictionary."
   ]
  },
  {
   "cell_type": "code",
   "execution_count": 23,
   "id": "8a63f879",
   "metadata": {},
   "outputs": [],
   "source": [
    "E_to_F = {\n",
    "    \"dog\": \"chien\",\n",
    "    \"cat\": \"chat\",\n",
    "    \"walrus\": \"morse\"\n",
    "}"
   ]
  },
  {
   "cell_type": "code",
   "execution_count": 24,
   "id": "be59942a",
   "metadata": {},
   "outputs": [
    {
     "name": "stdout",
     "output_type": "stream",
     "text": [
      "{'dog': 'chien', 'cat': 'chat', 'walrus': 'morse'}\n"
     ]
    }
   ],
   "source": [
    "print(E_to_F)"
   ]
  },
  {
   "cell_type": "code",
   "execution_count": 25,
   "id": "e7efbcd1",
   "metadata": {},
   "outputs": [],
   "source": [
    "#9. Translate 'walrus' to French\n",
    "#Use e2f to print the French word for “walrus.”"
   ]
  },
  {
   "cell_type": "code",
   "execution_count": 26,
   "id": "0a8c2d20",
   "metadata": {},
   "outputs": [],
   "source": [
    "E_to_F = {\n",
    "    \"dog\": \"chien\",\n",
    "    \"cat\": \"chat\",\n",
    "    \"walrus\": \"morse\"\n",
    "}"
   ]
  },
  {
   "cell_type": "code",
   "execution_count": 27,
   "id": "6961b876",
   "metadata": {},
   "outputs": [
    {
     "name": "stdout",
     "output_type": "stream",
     "text": [
      "morse\n"
     ]
    }
   ],
   "source": [
    "print(E_to_F[\"walrus\"])"
   ]
  },
  {
   "cell_type": "code",
   "execution_count": 28,
   "id": "79a08484",
   "metadata": {},
   "outputs": [],
   "source": [
    "#10. Reverse Dictionary\n",
    "#Create a reverse dictionary f2e from e2f using the .items() method.\n",
    "#Print f2e."
   ]
  },
  {
   "cell_type": "code",
   "execution_count": 30,
   "id": "ef825b62",
   "metadata": {},
   "outputs": [],
   "source": [
    "E_to_F = {\n",
    "    \"dog\": \"chien\",\n",
    "    \"cat\": \"chat\",\n",
    "    \"walrus\": \"morse\"\n",
    "}\n",
    "\n",
    "F_to_E = {french: english for english, french in E_to_F.items()}"
   ]
  },
  {
   "cell_type": "code",
   "execution_count": 31,
   "id": "bbf4b7ba",
   "metadata": {},
   "outputs": [
    {
     "name": "stdout",
     "output_type": "stream",
     "text": [
      "{'chien': 'dog', 'chat': 'cat', 'morse': 'walrus'}\n"
     ]
    }
   ],
   "source": [
    "print(F_to_E)"
   ]
  },
  {
   "cell_type": "code",
   "execution_count": 32,
   "id": "1bfec131",
   "metadata": {},
   "outputs": [],
   "source": [
    "#11. Translate 'chien' to English\n",
    "#Use f2e to print the English word for “chien.”"
   ]
  },
  {
   "cell_type": "code",
   "execution_count": 33,
   "id": "9e7a6863",
   "metadata": {},
   "outputs": [],
   "source": [
    "F_to_E = {\n",
    "    \"chien\": \"dog\",\n",
    "    \"chat\": \"cat\",\n",
    "    \"morse\": \"walrus\"\n",
    "}"
   ]
  },
  {
   "cell_type": "code",
   "execution_count": 34,
   "id": "91e5cdd9",
   "metadata": {},
   "outputs": [
    {
     "name": "stdout",
     "output_type": "stream",
     "text": [
      "dog\n"
     ]
    }
   ],
   "source": [
    "print(F_to_E[\"chien\"])"
   ]
  },
  {
   "cell_type": "code",
   "execution_count": 35,
   "id": "42a9bceb",
   "metadata": {},
   "outputs": [],
   "source": [
    "#12. Get All English Words\n",
    "#Print the set of all English words (the keys from e2f)."
   ]
  },
  {
   "cell_type": "code",
   "execution_count": 37,
   "id": "7ac6bae5",
   "metadata": {},
   "outputs": [],
   "source": [
    "E_to_F = {\n",
    "    \"dog\": \"chien\",\n",
    "    \"cat\": \"chat\",\n",
    "    \"walrus\": \"morse\"\n",
    "}\n",
    "\n",
    "english_words = set(E_to_F.keys())"
   ]
  },
  {
   "cell_type": "code",
   "execution_count": 38,
   "id": "3f84772b",
   "metadata": {},
   "outputs": [
    {
     "name": "stdout",
     "output_type": "stream",
     "text": [
      "{'dog', 'cat', 'walrus'}\n"
     ]
    }
   ],
   "source": [
    "print(english_words)"
   ]
  },
  {
   "cell_type": "code",
   "execution_count": 40,
   "id": "49415b7a",
   "metadata": {},
   "outputs": [
    {
     "data": {
      "text/plain": [
       "{'animals': {'cats': ['Henri', 'Grumpy', 'Lucy'], 'octopi': {}, 'emus': {}},\n",
       " 'plants': {},\n",
       " 'other': {}}"
      ]
     },
     "execution_count": 40,
     "metadata": {},
     "output_type": "execute_result"
    }
   ],
   "source": [
    "#13. Create a Nested Dictionary (life)\n",
    "#Create a dictionary life structured like this:\n",
    "{\n",
    "'animals': {\n",
    "'cats': ['Henri', 'Grumpy', 'Lucy'],\n",
    "'octopi': {},\n",
    "'emus': {}\n",
    "},\n",
    "'plants': {},\n",
    "'other': {}\n",
    "}"
   ]
  },
  {
   "cell_type": "code",
   "execution_count": 41,
   "id": "ba0699e9",
   "metadata": {},
   "outputs": [],
   "source": [
    "#14. Top-Level Keys\n",
    "#Print the top-level keys of life."
   ]
  },
  {
   "cell_type": "code",
   "execution_count": 42,
   "id": "681658ca",
   "metadata": {},
   "outputs": [],
   "source": [
    "life = {\n",
    "    'animals': {\n",
    "        'cats': ['Henri', 'Grumpy', 'Lucy'],\n",
    "        'octopi': {},\n",
    "        'emus': {}\n",
    "    },\n",
    "    'plants': {},\n",
    "    'other': {}\n",
    "}"
   ]
  },
  {
   "cell_type": "code",
   "execution_count": 43,
   "id": "643761ae",
   "metadata": {},
   "outputs": [
    {
     "name": "stdout",
     "output_type": "stream",
     "text": [
      "dict_keys(['animals', 'plants', 'other'])\n"
     ]
    }
   ],
   "source": [
    "print(life.keys())"
   ]
  },
  {
   "cell_type": "code",
   "execution_count": 44,
   "id": "3a030038",
   "metadata": {},
   "outputs": [],
   "source": [
    "#15. Animal Categories\n",
    "#Print the keys inside life['animals']."
   ]
  },
  {
   "cell_type": "code",
   "execution_count": 45,
   "id": "159024aa",
   "metadata": {},
   "outputs": [],
   "source": [
    "life = {\n",
    "    'animals': {\n",
    "        'cats': ['Henri', 'Grumpy', 'Lucy'],\n",
    "        'octopi': {},\n",
    "        'emus': {}\n",
    "    },\n",
    "    'plants': {},\n",
    "    'other': {}\n",
    "}"
   ]
  },
  {
   "cell_type": "code",
   "execution_count": 46,
   "id": "4da172fe",
   "metadata": {},
   "outputs": [
    {
     "name": "stdout",
     "output_type": "stream",
     "text": [
      "dict_keys(['cats', 'octopi', 'emus'])\n"
     ]
    }
   ],
   "source": [
    "print(life['animals'].keys())"
   ]
  },
  {
   "cell_type": "code",
   "execution_count": 47,
   "id": "71417330",
   "metadata": {},
   "outputs": [],
   "source": [
    "#16. List of Cat Names\n",
    "#Print the list of cat names stored in life['animals']['cats']."
   ]
  },
  {
   "cell_type": "code",
   "execution_count": 48,
   "id": "862cf68d",
   "metadata": {},
   "outputs": [],
   "source": [
    "life = {\n",
    "    'animals': {\n",
    "        'cats': ['Henri', 'Grumpy', 'Lucy'],\n",
    "        'octopi': {},\n",
    "        'emus': {}\n",
    "    },\n",
    "    'plants': {},\n",
    "    'other': {}\n",
    "}"
   ]
  },
  {
   "cell_type": "code",
   "execution_count": 49,
   "id": "c96c8d54",
   "metadata": {},
   "outputs": [
    {
     "name": "stdout",
     "output_type": "stream",
     "text": [
      "['Henri', 'Grumpy', 'Lucy']\n"
     ]
    }
   ],
   "source": [
    "print(life['animals']['cats'])"
   ]
  },
  {
   "cell_type": "code",
   "execution_count": null,
   "id": "22ef9181",
   "metadata": {},
   "outputs": [],
   "source": []
  }
 ],
 "metadata": {
  "kernelspec": {
   "display_name": "Python 3 (ipykernel)",
   "language": "python",
   "name": "python3"
  },
  "language_info": {
   "codemirror_mode": {
    "name": "ipython",
    "version": 3
   },
   "file_extension": ".py",
   "mimetype": "text/x-python",
   "name": "python",
   "nbconvert_exporter": "python",
   "pygments_lexer": "ipython3",
   "version": "3.11.3"
  }
 },
 "nbformat": 4,
 "nbformat_minor": 5
}
