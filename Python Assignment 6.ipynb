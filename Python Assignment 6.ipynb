{
 "cells": [
  {
   "cell_type": "code",
   "execution_count": 1,
   "id": "3a6ce42d",
   "metadata": {},
   "outputs": [],
   "source": [
    "#Functions and Lambda Expressions"
   ]
  },
  {
   "cell_type": "code",
   "execution_count": 2,
   "id": "b55985e7",
   "metadata": {},
   "outputs": [],
   "source": [
    "#1. Short Answer Questions"
   ]
  },
  {
   "cell_type": "code",
   "execution_count": null,
   "id": "dc42d64f",
   "metadata": {},
   "outputs": [],
   "source": [
    "#Q1. Explain the difference between def statements and lambda expressions. Give an\n",
    "#example of each."
   ]
  },
  {
   "cell_type": "markdown",
   "id": "fe403754",
   "metadata": {},
   "source": [
    "Ans:- \n",
    "def: Used to define named functions with multiple expressions/statements.\n",
    "\n",
    "lambda: Used to define anonymous functions with a single expression.\n",
    "\n",
    "Example:-\n",
    "\n",
    "def square(x):\n",
    "      return x * x\n",
    "\n",
    "lambda_square = lambda x: x * x\n"
   ]
  },
  {
   "cell_type": "code",
   "execution_count": 4,
   "id": "fd664775",
   "metadata": {},
   "outputs": [],
   "source": [
    "#Q2. List and explain three benefits of using lambda expressions."
   ]
  },
  {
   "cell_type": "markdown",
   "id": "1ecc3a1e",
   "metadata": {},
   "source": [
    "Benefits of using lambda expressions:\n",
    "\n",
    "1. Concise Syntax – Allows quick definition of small functions.\n",
    "\n",
    "2. Used Inline – Useful with functions like map(), filter(), etc.\n",
    "\n",
    "3. Improves Readability – Especially when used for short, throwaway functions.\n",
    "\n"
   ]
  },
  {
   "cell_type": "code",
   "execution_count": 6,
   "id": "6a7f07b0",
   "metadata": {},
   "outputs": [],
   "source": [
    "#Q3. Compare map(), filter(), and reduce() with one-line examples using a lambda\n",
    "#function and a list."
   ]
  },
  {
   "cell_type": "code",
   "execution_count": 7,
   "id": "7fadfeea",
   "metadata": {},
   "outputs": [
    {
     "name": "stdout",
     "output_type": "stream",
     "text": [
      "[2, 4, 6]\n",
      "[2, 4]\n",
      "10\n"
     ]
    }
   ],
   "source": [
    "from functools import reduce\n",
    "\n",
    "# map\n",
    "print(list(map(lambda x: x*2, [1, 2, 3])))  # [2, 4, 6]\n",
    "\n",
    "# filter\n",
    "print(list(filter(lambda x: x%2 == 0, [1, 2, 3, 4])))  # [2, 4]\n",
    "\n",
    "# reduce\n",
    "print(reduce(lambda x, y: x + y, [1, 2, 3, 4]))  # 10\n"
   ]
  },
  {
   "cell_type": "code",
   "execution_count": 8,
   "id": "23fedd47",
   "metadata": {},
   "outputs": [],
   "source": [
    "#Q4. What are function annotations in Python? Write a function that uses them."
   ]
  },
  {
   "cell_type": "markdown",
   "id": "798ce337",
   "metadata": {},
   "source": [
    "Function annotations are a way to attach metadata (like expected data types) to a function’s parameters and return value. These annotations do not enforce type checking, but they are useful for documentation, type hints, and tools like linters or IDEs."
   ]
  },
  {
   "cell_type": "code",
   "execution_count": 13,
   "id": "7f5e8b13",
   "metadata": {},
   "outputs": [
    {
     "name": "stdout",
     "output_type": "stream",
     "text": [
      "12\n"
     ]
    }
   ],
   "source": [
    "def add(x: int, y: int) -> int:\n",
    "    return x + y\n",
    "\n",
    "print(add(5, 7))  # Output: 12"
   ]
  },
  {
   "cell_type": "code",
   "execution_count": 14,
   "id": "cd5fcabf",
   "metadata": {},
   "outputs": [],
   "source": [
    "#Q5. What is a recursive function? Write a simple recursive function to calculate the\n",
    "#factorial of a number."
   ]
  },
  {
   "cell_type": "markdown",
   "id": "29211592",
   "metadata": {},
   "source": [
    "A recursive function is a function that calls itself in order to solve a problem.\n",
    "It breaks the problem into smaller subproblems of the same type and solves them recursively."
   ]
  },
  {
   "cell_type": "code",
   "execution_count": 15,
   "id": "86fb3be1",
   "metadata": {},
   "outputs": [
    {
     "name": "stdout",
     "output_type": "stream",
     "text": [
      "120\n"
     ]
    }
   ],
   "source": [
    "def factorial(n):\n",
    "    if n == 0:\n",
    "        return 1           # Base case\n",
    "    else:\n",
    "        return n * factorial(n - 1)  # Recursive case\n",
    "\n",
    "print(factorial(5))  # Output: 120"
   ]
  },
  {
   "cell_type": "code",
   "execution_count": 16,
   "id": "05c8ddbf",
   "metadata": {},
   "outputs": [],
   "source": [
    "#Q6. State five design guidelines you should follow while writing functions in Python."
   ]
  },
  {
   "cell_type": "markdown",
   "id": "6481d1cc",
   "metadata": {},
   "source": [
    "1. Use meaningful function names.\n",
    "\n",
    "2. Keep functions short and focused.\n",
    "\n",
    "3. Use comments and docstrings.\n",
    "\n",
    "4. Avoid side effects; use return values.\n",
    "\n",
    "5. Use default and keyword arguments for flexibility.\n",
    "\n"
   ]
  },
  {
   "cell_type": "code",
   "execution_count": 17,
   "id": "f8445fdb",
   "metadata": {},
   "outputs": [],
   "source": [
    "#Q7. Name at least three ways a function can communicate results to a caller and briefly\n",
    "#explain each."
   ]
  },
  {
   "cell_type": "markdown",
   "id": "bf3abe0d",
   "metadata": {},
   "source": [
    "1. Return Statement – Passes data back to the caller.\n",
    "\n",
    "2. Print Statement – Displays results (not ideal for programmatic use).\n",
    "\n",
    "3. Yield Statement – Returns a generator for iteration."
   ]
  },
  {
   "cell_type": "code",
   "execution_count": 18,
   "id": "d68d6da1",
   "metadata": {},
   "outputs": [],
   "source": [
    "#2. Coding Tasks"
   ]
  },
  {
   "cell_type": "code",
   "execution_count": 19,
   "id": "908a0dad",
   "metadata": {},
   "outputs": [],
   "source": [
    "#Task 1:\n",
    "#Write a lambda function that takes two numbers and returns their product. Assign it to a\n",
    "#variable and call it with 5 and 7."
   ]
  },
  {
   "cell_type": "code",
   "execution_count": 24,
   "id": "939cfa75",
   "metadata": {},
   "outputs": [
    {
     "name": "stdout",
     "output_type": "stream",
     "text": [
      "35\n"
     ]
    }
   ],
   "source": [
    "product = lambda x, y: x * y\n",
    "print(product(5, 7))"
   ]
  },
  {
   "cell_type": "code",
   "execution_count": 25,
   "id": "1cf95e3f",
   "metadata": {},
   "outputs": [],
   "source": [
    "#Task 2:\n",
    "#Use map() to square every number in a list [1, 2, 3, 4, 5]."
   ]
  },
  {
   "cell_type": "code",
   "execution_count": 26,
   "id": "ffa6197f",
   "metadata": {},
   "outputs": [
    {
     "name": "stdout",
     "output_type": "stream",
     "text": [
      "[1, 4, 9, 16, 25]\n"
     ]
    }
   ],
   "source": [
    "nums = [1, 2, 3, 4, 5]\n",
    "squared = list(map(lambda x: x**2, nums))\n",
    "print(squared)"
   ]
  },
  {
   "cell_type": "code",
   "execution_count": 27,
   "id": "507f7866",
   "metadata": {},
   "outputs": [],
   "source": [
    "#Task 3:\n",
    "#Use filter() to extract only the even numbers from the list [10, 15, 20, 25, 30]."
   ]
  },
  {
   "cell_type": "code",
   "execution_count": 28,
   "id": "7f895905",
   "metadata": {},
   "outputs": [
    {
     "name": "stdout",
     "output_type": "stream",
     "text": [
      "[10, 20, 30]\n"
     ]
    }
   ],
   "source": [
    "nums = [10, 15, 20, 25, 30]\n",
    "evens = list(filter(lambda x: x % 2 == 0, nums))\n",
    "print(evens)"
   ]
  },
  {
   "cell_type": "code",
   "execution_count": 29,
   "id": "31e01e34",
   "metadata": {},
   "outputs": [],
   "source": [
    "#Task 4:\n",
    "#Use reduce() from functools to calculate the product of numbers in [1, 2, 3, 4, 5]."
   ]
  },
  {
   "cell_type": "code",
   "execution_count": 30,
   "id": "999968b7",
   "metadata": {},
   "outputs": [
    {
     "name": "stdout",
     "output_type": "stream",
     "text": [
      "120\n"
     ]
    }
   ],
   "source": [
    "from functools import reduce\n",
    "\n",
    "nums = [1, 2, 3, 4, 5]\n",
    "product = reduce(lambda x, y: x * y, nums)\n",
    "print(product)"
   ]
  },
  {
   "cell_type": "code",
   "execution_count": 31,
   "id": "7f1b004c",
   "metadata": {},
   "outputs": [],
   "source": [
    "#Task 5:\n",
    "#Create a function with annotations that:\n",
    "#• takes an integer as input,\n",
    "#• returns a string saying whether it is \"Even\" or \"Odd\"."
   ]
  },
  {
   "cell_type": "code",
   "execution_count": 32,
   "id": "36e936ef",
   "metadata": {},
   "outputs": [
    {
     "name": "stdout",
     "output_type": "stream",
     "text": [
      "Even\n"
     ]
    }
   ],
   "source": [
    "def check_even_odd(n: int) -> str:\n",
    "    return \"Even\" if n % 2 == 0 else \"Odd\"\n",
    "\n",
    "print(check_even_odd(4))"
   ]
  },
  {
   "cell_type": "code",
   "execution_count": 33,
   "id": "08fbf49b",
   "metadata": {},
   "outputs": [],
   "source": [
    "#Task 6:\n",
    "#Write a recursive function to compute the sum of all numbers from 1 to n."
   ]
  },
  {
   "cell_type": "code",
   "execution_count": 36,
   "id": "97748b87",
   "metadata": {},
   "outputs": [
    {
     "name": "stdout",
     "output_type": "stream",
     "text": [
      "10\n"
     ]
    }
   ],
   "source": [
    "def recursive_sum(n):\n",
    "    if n == 0:\n",
    "        return 0\n",
    "    return n + recursive_sum(n - 1)\n",
    "\n",
    "print(recursive_sum(4))"
   ]
  },
  {
   "cell_type": "code",
   "execution_count": 37,
   "id": "15603bac",
   "metadata": {},
   "outputs": [],
   "source": [
    "#Bonus Question\n",
    "#Write a function that returns different results using print, return, and yield. Call the\n",
    "#function and show how each type of output works."
   ]
  },
  {
   "cell_type": "code",
   "execution_count": 38,
   "id": "19caf1ac",
   "metadata": {},
   "outputs": [
    {
     "name": "stdout",
     "output_type": "stream",
     "text": [
      "Printed Output\n",
      "Yielded Output\n",
      "Returned: Returned Output\n"
     ]
    }
   ],
   "source": [
    "def output_demo():\n",
    "    print(\"Printed Output\")\n",
    "    yield \"Yielded Output\"\n",
    "    return \"Returned Output\"\n",
    "\n",
    "# Calling function\n",
    "gen = output_demo()  # This runs print\n",
    "print(next(gen))     # This prints yield output\n",
    "# To see return, catch StopIteration\n",
    "try:\n",
    "    next(gen)\n",
    "except StopIteration as e:\n",
    "    print(\"Returned:\", e.value)\n"
   ]
  },
  {
   "cell_type": "code",
   "execution_count": null,
   "id": "5d2318c1",
   "metadata": {},
   "outputs": [],
   "source": []
  }
 ],
 "metadata": {
  "kernelspec": {
   "display_name": "Python 3 (ipykernel)",
   "language": "python",
   "name": "python3"
  },
  "language_info": {
   "codemirror_mode": {
    "name": "ipython",
    "version": 3
   },
   "file_extension": ".py",
   "mimetype": "text/x-python",
   "name": "python",
   "nbconvert_exporter": "python",
   "pygments_lexer": "ipython3",
   "version": "3.11.3"
  }
 },
 "nbformat": 4,
 "nbformat_minor": 5
}
